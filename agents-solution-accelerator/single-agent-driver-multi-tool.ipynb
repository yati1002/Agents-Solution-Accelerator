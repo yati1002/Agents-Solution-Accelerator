{
 "cells": [
  {
   "cell_type": "markdown",
   "metadata": {
    "application/vnd.databricks.v1+cell": {
     "cellMetadata": {
      "byteLimit": 2048000,
      "rowLimit": 10000
     },
     "inputWidgets": {},
     "nuid": "cbd4fe6e-b728-4e24-aa5d-9f1403c3d8ec",
     "showTitle": false,
     "tableResultSettingsMap": {},
     "title": ""
    }
   },
   "source": [
    "#Tool-calling Agent\n",
    "\n",
    "This is an auto-generated notebook created by an AI Playground export.\n",
    "\n",
    "This notebook uses [Mosaic AI Agent Framework](https://docs.databricks.com/generative-ai/agent-framework/build-genai-apps.html) to recreate your agent from the AI Playground. It  demonstrates how to develop, manually test, evaluate, log, and deploy a tool-calling agent in LangGraph.\n",
    "\n",
    "The agent code implements [MLflow's ChatAgent](https://mlflow.org/docs/latest/python_api/mlflow.pyfunc.html#mlflow.pyfunc.ChatAgent) interface, a Databricks-recommended open-source standard that simplifies authoring multi-turn conversational agents, and is fully compatible with Mosaic AI agent framework functionality.\n",
    "\n",
    " **_NOTE:_**  This notebook uses LangChain, but AI Agent Framework is compatible with any agent authoring framework, including LlamaIndex or pure Python agents written with the OpenAI SDK.\n",
    "\n",
    "## Prerequisites\n",
    "\n",
    "- Address all `TODO`s in this notebook."
   ]
  },
  {
   "cell_type": "code",
   "execution_count": 0,
   "metadata": {
    "application/vnd.databricks.v1+cell": {
     "cellMetadata": {
      "byteLimit": 2048000,
      "rowLimit": 10000
     },
     "inputWidgets": {},
     "nuid": "87840947-44dd-444c-a3cb-9bfbd1879fae",
     "showTitle": false,
     "tableResultSettingsMap": {},
     "title": ""
    }
   },
   "outputs": [],
   "source": [
    "%pip install -U -qqqq mlflow langchain langgraph==0.3.4 databricks-langchain pydantic databricks-agents unitycatalog-langchain[databricks] uv langchain-openai\n",
    "dbutils.library.restartPython()"
   ]
  },
  {
   "cell_type": "code",
   "execution_count": 0,
   "metadata": {
    "application/vnd.databricks.v1+cell": {
     "cellMetadata": {
      "byteLimit": 2048000,
      "rowLimit": 10000
     },
     "inputWidgets": {},
     "nuid": "0e4d132f-c79b-49ad-81eb-bd73e1f38a38",
     "showTitle": false,
     "tableResultSettingsMap": {},
     "title": ""
    }
   },
   "outputs": [],
   "source": [
    "%load_ext autoreload\n",
    "%autoreload 2\n",
    "import warnings\n",
    "\n",
    "warnings.simplefilter(action=\"ignore\")"
   ]
  },
  {
   "cell_type": "code",
   "execution_count": 0,
   "metadata": {
    "application/vnd.databricks.v1+cell": {
     "cellMetadata": {
      "byteLimit": 2048000,
      "rowLimit": 10000
     },
     "inputWidgets": {},
     "nuid": "cb8b84a9-421a-4f48-9ae2-b90a829dc5aa",
     "showTitle": false,
     "tableResultSettingsMap": {},
     "title": ""
    }
   },
   "outputs": [],
   "source": [
    "dbutils.widgets.text(name=\"catalog\", defaultValue=\"\", label=\"catalog\")\n",
    "dbutils.widgets.text(name=\"schema\", defaultValue=\"\", label=\"schema\")\n",
    "dbutils.widgets.text(name=\"model\", defaultValue=\"serper_agent\", label=\"model\")\n",
    "dbutils.widgets.text(name=\"DATABRICKS_TOKEN\", defaultValue=\"\", label=\"DATABRICKS_TOKEN\")\n",
    "dbutils.widgets.text(name=\"secret_scope\", defaultValue=\"\", label=\"secret_scope\")\n",
    "dbutils.widgets.text(name=\"SERPER_API_KEY\", defaultValue=\"\", label=\"SERPER_API_KEY\")\n",
    "dbutils.widgets.text(name=\"OPENAI_API_KEY\", defaultValue=\"\", label=\"OPENAI_API_KEY\")"
   ]
  },
  {
   "cell_type": "code",
   "execution_count": 0,
   "metadata": {
    "application/vnd.databricks.v1+cell": {
     "cellMetadata": {
      "byteLimit": 2048000,
      "rowLimit": 10000
     },
     "inputWidgets": {},
     "nuid": "a90b5466-fd3e-4a1e-9871-2da13c2561cd",
     "showTitle": false,
     "tableResultSettingsMap": {},
     "title": ""
    }
   },
   "outputs": [],
   "source": [
    "catalog = dbutils.widgets.get(\"catalog\")\n",
    "schema = dbutils.widgets.get(\"schema\")\n",
    "model = dbutils.widgets.get(\"model\")\n",
    "# LLM_ENDPOINT = dbutils.widgets.get(\"foundation_model\")\n",
    "assert (\n",
    "    len(catalog) > 0 and len(schema) > 0 and len(model) > 0\n",
    "), \"Please provide a valid catalog, schema, and model name\"\n",
    "three_tiered_model_name = f\"{catalog}.{schema}.{model}\"\n",
    "print(f\"{three_tiered_model_name=}\")"
   ]
  },
  {
   "cell_type": "markdown",
   "metadata": {
    "application/vnd.databricks.v1+cell": {
     "cellMetadata": {},
     "inputWidgets": {},
     "nuid": "9163c0aa-6061-4af8-aaff-005b16ac464e",
     "showTitle": false,
     "tableResultSettingsMap": {},
     "title": ""
    }
   },
   "source": [
    "Please replace `existing secret scope` with your existing secret scope if you do not wish to create a new one."
   ]
  },
  {
   "cell_type": "code",
   "execution_count": 0,
   "metadata": {
    "application/vnd.databricks.v1+cell": {
     "cellMetadata": {
      "byteLimit": 2048000,
      "rowLimit": 10000
     },
     "inputWidgets": {},
     "nuid": "31753c40-5c27-41cc-9ba8-25c094aec3bf",
     "showTitle": false,
     "tableResultSettingsMap": {},
     "title": ""
    }
   },
   "outputs": [],
   "source": [
    "from databricks.sdk import WorkspaceClient\n",
    "\n",
    "w = WorkspaceClient()\n",
    "\n",
    "DATABRICKS_HOST = w.config.host\n",
    "\n",
    "secret_scope_name = dbutils.widgets.get(\"secret_scope\")\n",
    "\n",
    "# if needed create a secret scope\n",
    "if secret_scope_name != \"existing secret scope\":\n",
    "    w.secrets.create_scope(scope=secret_scope_name)\n",
    "else:\n",
    "    print(f\"Using existing secret scope: {secret_scope_name}\")"
   ]
  },
  {
   "cell_type": "code",
   "execution_count": 0,
   "metadata": {
    "application/vnd.databricks.v1+cell": {
     "cellMetadata": {
      "byteLimit": 2048000,
      "rowLimit": 10000
     },
     "inputWidgets": {},
     "nuid": "07e920c4-37d2-4d26-943a-a47850c6c9eb",
     "showTitle": false,
     "tableResultSettingsMap": {},
     "title": ""
    }
   },
   "outputs": [],
   "source": [
    "# openai API key in Databricks Secrets\n",
    "SECRETS_SCOPE = secret_scope_name\n",
    "SECRETS_KEY = \"DATABRICKS_TOKEN\"\n",
    "OPENAI_SECRETS_KEY = \"OpenAIBo\"\n",
    "\n",
    "# if you need to add an OpenAI API key, you can do so with:\n",
    "\n",
    "if dbutils.widgets.get(\"DATABRICKS_TOKEN\") == \"\":\n",
    "    print(\"no DATABRICKS_TOKEN is provided\")\n",
    "else:\n",
    "    w.secrets.put_secret(\n",
    "        scope=SECRETS_SCOPE,\n",
    "        key=SECRETS_KEY,\n",
    "        string_value=dbutils.widgets.get(\"DATABRICKS_TOKEN\"),\n",
    "    )\n",
    "\n",
    "if dbutils.widgets.get(\"SERPER_API_KEY\") == \"\":\n",
    "    print(\"no SERPER_API_KEY is provided\")\n",
    "else:\n",
    "    w.secrets.put_secret(\n",
    "        scope=SECRETS_SCOPE,\n",
    "        key=\"SERPER_API_KEY\",\n",
    "        string_value=dbutils.widgets.get(\"SERPER_API_KEY\"),\n",
    "    )\n",
    "\n",
    "if dbutils.widgets.get(\"OPENAI_API_KEY\") == \"\":\n",
    "    print(\"no OPENAI_API_KEY is provided\")\n",
    "else:\n",
    "    w.secrets.put_secret(\n",
    "        scope=SECRETS_SCOPE,\n",
    "        key=OPENAI_SECRETS_KEY,\n",
    "        string_value=dbutils.widgets.get(\"OPENAI_API_KEY\"),\n",
    "    )\n",
    "\n",
    "w.secrets.put_secret(\n",
    "    scope=SECRETS_SCOPE, key=\"DATABRICKS_HOST\", string_value=DATABRICKS_HOST\n",
    ")"
   ]
  },
  {
   "cell_type": "markdown",
   "metadata": {
    "application/vnd.databricks.v1+cell": {
     "cellMetadata": {
      "byteLimit": 2048000,
      "rowLimit": 10000
     },
     "inputWidgets": {},
     "nuid": "6bf844b5-cf55-4bd9-9958-9df6f2878d06",
     "showTitle": false,
     "tableResultSettingsMap": {},
     "title": ""
    }
   },
   "source": [
    "## Define the agent in code\n",
    "Below we define our agent code in a single cell, enabling us to easily write it to a local Python file for subsequent logging and deployment using the `%%writefile` magic command.\n",
    "\n",
    "For more examples of tools to add to your agent, see [docs](https://docs.databricks.com/generative-ai/agent-framework/agent-tool.html)."
   ]
  },
  {
   "cell_type": "code",
   "execution_count": 0,
   "metadata": {
    "application/vnd.databricks.v1+cell": {
     "cellMetadata": {
      "byteLimit": 2048000,
      "rowLimit": 10000
     },
     "inputWidgets": {},
     "nuid": "9c308f8f-da79-4b6d-8aae-f8674aa3fc2e",
     "showTitle": false,
     "tableResultSettingsMap": {},
     "title": ""
    }
   },
   "outputs": [],
   "source": [
    "import os\n",
    "\n",
    "os.environ[\"OPENAI_API_KEY\"] = dbutils.secrets.get(\n",
    "    scope=SECRETS_SCOPE, key=OPENAI_SECRETS_KEY\n",
    ")\n",
    "os.environ[\"SERPER_API_KEY\"] = dbutils.secrets.get(\n",
    "    scope=SECRETS_SCOPE, key=\"SERPER_API_KEY\"\n",
    ")"
   ]
  },
  {
   "cell_type": "markdown",
   "metadata": {
    "application/vnd.databricks.v1+cell": {
     "cellMetadata": {},
     "inputWidgets": {},
     "nuid": "036a2235-29a3-462d-8cc4-3a5793372541",
     "showTitle": false,
     "tableResultSettingsMap": {},
     "title": ""
    }
   },
   "source": [
    "Please replace `catalog`, `schema` with your UC catalog and schema names."
   ]
  },
  {
   "cell_type": "code",
   "execution_count": 0,
   "metadata": {
    "application/vnd.databricks.v1+cell": {
     "cellMetadata": {
      "byteLimit": 2048000,
      "implicitDf": true,
      "rowLimit": 10000
     },
     "inputWidgets": {},
     "nuid": "cd754a0d-06db-42f4-890a-f0d848ee484d",
     "showTitle": false,
     "tableResultSettingsMap": {},
     "title": ""
    }
   },
   "outputs": [],
   "source": [
    "%sql\n",
    "CREATE OR REPLACE FUNCTION catalog.schema.extract_member_id(\n",
    "    question STRING COMMENT 'input patient question'\n",
    "  )\n",
    "  RETURNS STRING\n",
    "  COMMENT 'Returns member_id given a patient question'\n",
    "  RETURN AI_QUERY(\n",
    "    'databricks-meta-llama-3-1-8b-instruct',\n",
    "    CONCAT(\n",
    "      '### Instruction:\\nExtract only the member ID from the input text. '\n",
    "      || 'Return only the member ID with no extra text.\\n\\n'\n",
    "      || '### Input:\\n',\n",
    "      question,\n",
    "      '\\n\\n### Response:'\n",
    "    ),\n",
    "    'STRING'\n",
    "  )"
   ]
  },
  {
   "cell_type": "code",
   "execution_count": 0,
   "metadata": {
    "application/vnd.databricks.v1+cell": {
     "cellMetadata": {
      "byteLimit": 2048000,
      "implicitDf": true,
      "rowLimit": 10000
     },
     "inputWidgets": {},
     "nuid": "583a68db-3871-47a2-8bdf-6c805d46d9ce",
     "showTitle": false,
     "tableResultSettingsMap": {},
     "title": ""
    }
   },
   "outputs": [],
   "source": [
    "%sql\n",
    "CREATE OR REPLACE FUNCTION catalog.schema.extract_deductible(\n",
    "    member_id STRING COMMENT 'Member id'\n",
    "  )\n",
    "  RETURNS TABLE\n",
    "  COMMENT 'Returns member deductible details about a customer'\n",
    "  RETURN\n",
    "    SELECT\n",
    "      mem_deductible,\n",
    "      mem_ded_agg\n",
    "    FROM\n",
    "      catalog.schema.member_accumulators a\n",
    "    WHERE\n",
    "      a.member_id = member_id\n",
    "    LIMIT 1;"
   ]
  },
  {
   "cell_type": "code",
   "execution_count": 0,
   "metadata": {
    "application/vnd.databricks.v1+cell": {
     "cellMetadata": {
      "byteLimit": 2048000,
      "implicitDf": true,
      "rowLimit": 10000
     },
     "inputWidgets": {},
     "nuid": "9b149c91-e356-4657-b1ec-38014265f044",
     "showTitle": false,
     "tableResultSettingsMap": {},
     "title": ""
    }
   },
   "outputs": [],
   "source": [
    "%sql\n",
    "-- Create a SQL function that calls the vector_search() AI Function\n",
    "CREATE OR REPLACE FUNCTION catalog.schema.cpt_codes_vector_search(\n",
    "    question STRING COMMENT 'The question string for searching insurance cpt codes and their descriptions'\n",
    "  )\n",
    "  RETURNS TABLE\n",
    "  COMMENT 'Executes a search on cpt codes to retrieve text descriptions most relevant to the input question.'\n",
    "  RETURN\n",
    "    SELECT\n",
    "      description,\n",
    "      code\n",
    "    FROM\n",
    "      vector_search(\n",
    "        index => 'catalog.schema.cpt_codes_index',\n",
    "        query => question,\n",
    "        num_results => 1\n",
    "      );"
   ]
  },
  {
   "cell_type": "code",
   "execution_count": 0,
   "metadata": {
    "application/vnd.databricks.v1+cell": {
     "cellMetadata": {
      "byteLimit": 2048000,
      "implicitDf": true,
      "rowLimit": 10000
     },
     "inputWidgets": {},
     "nuid": "9a61aa5d-d5e9-44e1-9230-7e437e4e2d33",
     "showTitle": false,
     "tableResultSettingsMap": {},
     "title": ""
    }
   },
   "outputs": [],
   "source": [
    "# %sql\n",
    "# SELECT\n",
    "#   *\n",
    "# FROM\n",
    "#   catalog.schema.cpt_codes_vector_search(\n",
    "#     'my member id is 1234. what is cost of hip replacement considering my IP address is 172.217.22.14?'\n",
    "#   ) AS example"
   ]
  },
  {
   "cell_type": "code",
   "execution_count": 0,
   "metadata": {
    "application/vnd.databricks.v1+cell": {
     "cellMetadata": {
      "byteLimit": 2048000,
      "implicitDf": true,
      "rowLimit": 10000
     },
     "inputWidgets": {},
     "nuid": "8253bb8a-5027-4e50-b77f-fad84a6b90c0",
     "showTitle": false,
     "tableResultSettingsMap": {},
     "title": ""
    }
   },
   "outputs": [],
   "source": [
    "%sql\n",
    "CREATE OR REPLACE FUNCTION catalog.schema.get_procedure_cost(\n",
    "    procedure_code STRING COMMENT 'Procedure code'\n",
    "  )\n",
    "  RETURNS TABLE\n",
    "  COMMENT 'Returns cost for a procedure code'\n",
    "  RETURN\n",
    "    SELECT\n",
    "      cost as procedure_cost\n",
    "    FROM\n",
    "      catalog.schema.procedure_cost a\n",
    "    WHERE\n",
    "      a.procedure_code = procedure_code\n",
    "    LIMIT 1;"
   ]
  },
  {
   "cell_type": "markdown",
   "metadata": {
    "application/vnd.databricks.v1+cell": {
     "cellMetadata": {},
     "inputWidgets": {},
     "nuid": "be7941a5-9811-41ec-ae74-9bfa04986857",
     "showTitle": false,
     "tableResultSettingsMap": {},
     "title": ""
    }
   },
   "source": [
    "Please replace `catalog`, `schema` in the below model as code with your UC catalog and schema names"
   ]
  },
  {
   "cell_type": "code",
   "execution_count": 0,
   "metadata": {
    "application/vnd.databricks.v1+cell": {
     "cellMetadata": {
      "byteLimit": 2048000,
      "rowLimit": 10000
     },
     "inputWidgets": {},
     "nuid": "84f96271-aa0e-4acf-b67b-70085f4aa863",
     "showTitle": false,
     "tableResultSettingsMap": {},
     "title": ""
    }
   },
   "outputs": [],
   "source": [
    "%%writefile agent.py\n",
    "from typing import Any, Generator, Optional, Sequence, Union\n",
    "import mlflow\n",
    "from databricks_langchain import (\n",
    "    ChatDatabricks,\n",
    "    VectorSearchRetrieverTool,\n",
    "    DatabricksFunctionClient,\n",
    "    UCFunctionToolkit,\n",
    "    set_uc_function_client,\n",
    ")\n",
    "from langchain_community.utilities import GoogleSerperAPIWrapper\n",
    "from langchain_core.language_models import LanguageModelLike\n",
    "from langchain_core.runnables import RunnableConfig, RunnableLambda\n",
    "from langchain_core.tools import BaseTool, Tool\n",
    "from langgraph.graph import END, StateGraph\n",
    "from langgraph.graph.graph import CompiledGraph\n",
    "from langgraph.graph.state import CompiledStateGraph\n",
    "from langgraph.prebuilt.tool_node import ToolNode\n",
    "from mlflow.langchain.chat_agent_langgraph import ChatAgentState, ChatAgentToolNode\n",
    "from mlflow.pyfunc import ChatAgent\n",
    "from mlflow.types.agent import (\n",
    "    ChatAgentChunk,\n",
    "    ChatAgentMessage,\n",
    "    ChatAgentResponse,\n",
    "    ChatContext,\n",
    ")\n",
    "from pydantic import BaseModel, Field\n",
    "\n",
    "# testing\n",
    "from langchain_openai import ChatOpenAI\n",
    "\n",
    "mlflow.langchain.autolog()\n",
    "\n",
    "client = DatabricksFunctionClient()\n",
    "set_uc_function_client(client)\n",
    "\n",
    "############################################\n",
    "# Define your Schema definition for returning structured output\n",
    "############################################\n",
    "class ResponseFormatter(BaseModel):\n",
    "    \"\"\"Always use this tool to structure your response to the user.\"\"\"\n",
    "\n",
    "    answer: str = Field(\n",
    "        description=\"The answer to the user's question without doctor's location data\"\n",
    "    )\n",
    "    first_doctor: str = Field(description=\"The first recommended doctor's name\")\n",
    "    first_doctor_lattitude: str = Field(\n",
    "        description=\"The first recommended doctor's latitude and direction\"\n",
    "    )\n",
    "    first_doctor_longitude: str = Field(\n",
    "        description=\"The first recommended doctor's longitude and direction\"\n",
    "    )\n",
    "    # second_doctor: str = Field(description=\"The second recommended doctor's name\")\n",
    "    # second_doctor_lattitude: str = Field(\n",
    "    #     description=\"The second recommended doctor's latitude and direction\"\n",
    "    # )\n",
    "    # second_doctor_longitude: str = Field(\n",
    "    #     description=\"The second recommended doctor's longitude and direction\"\n",
    "    # )\n",
    "\n",
    "\n",
    "############################################\n",
    "# Define your LLM endpoint and system prompt\n",
    "############################################\n",
    "# LLM_ENDPOINT_NAME = \"databricks-claude-3-7-sonnet\"\n",
    "# llm = ChatDatabricks(endpoint=LLM_ENDPOINT_NAME, temperature=0.1)\n",
    "\n",
    "LLM_ENDPOINT_NAME = \"gpt-4.1-mini-2025-04-14\"\n",
    "llm = ChatOpenAI(model_name=LLM_ENDPOINT_NAME, temperature=0.1)\n",
    "\n",
    "system_prompt = \"\"\"\n",
    "    You are an healthcare policy Q&A agent. \n",
    "    You are given a task and you must complete it.\n",
    "    Use the following routine to support the customer.\n",
    "    # Routine:\n",
    "    1. Use the extract_member_id tool to extract member id.\n",
    "    2. Use member id from step 1 as input for the extract_deductible tool to get the member deductible and member deductible aggregate.\n",
    "    3. Use the cpt_codes_vector_search tool to get the most similar code and description given the original question.\n",
    "    4. Use code from step 3 as input for the get_procedure_cost tool to get the procedure cost.\n",
    "    5. If you are provided an IP address convert the IP address into a location to provide location specific recommendations using the Intermediate_Answer tool.\n",
    "    6. For the recommendations, please provide the latitude and longitude of the location 1 top recommended doctor related to the original question.\n",
    "    7. Do not mention the IP address in your response.\n",
    "    8. Following the ResponseFormatter summarize the member id, member deductible, member deductible aggregate, code, procedure cost in the answer\n",
    "    9. Associate the 1 top recommended doctor with their own location related latitude and longitude along with direction and be as concise as possible in the other fields in the ResponseFormatter. \n",
    "    10. Use the output from the ResponseFormatter as the final answer.\n",
    "    You can use the following tools to complete the task:\n",
    "    {tools}\"\"\"\n",
    "\n",
    "###############################################################################\n",
    "## Define tools for your agent, enabling it to retrieve data or take actions\n",
    "## beyond text generation\n",
    "## To create and see usage examples of more tools, see\n",
    "## https://docs.databricks.com/generative-ai/agent-framework/agent-tool.html\n",
    "###############################################################################\n",
    "search = GoogleSerperAPIWrapper()\n",
    "tools = [\n",
    "    ResponseFormatter,\n",
    "    Tool(\n",
    "        name=\"Intermediate_Answer\",\n",
    "        func=search.run,\n",
    "        description=\"useful for when you need to ask with search\",\n",
    "    ),\n",
    "]\n",
    "\n",
    "# You can use UDFs in Unity Catalog as agent tools\n",
    "uc_tool_catalog = \"catalog\"\n",
    "uc_tool_schema = \"schema\"\n",
    "uc_tool_names = [\n",
    "    f\"{uc_tool_catalog}.{uc_tool_schema}.extract_member_id\",\n",
    "    f\"{uc_tool_catalog}.{uc_tool_schema}.extract_deductible\",\n",
    "    f\"{uc_tool_catalog}.{uc_tool_schema}.get_procedure_cost\",\n",
    "    f\"{uc_tool_catalog}.{uc_tool_schema}.cpt_codes_vector_search\",\n",
    "]\n",
    "uc_toolkit = UCFunctionToolkit(function_names=uc_tool_names)\n",
    "tools.extend(uc_toolkit.tools)\n",
    "\n",
    "# vector_search_index_tools = [\n",
    "#     VectorSearchRetrieverTool(\n",
    "#         index_name=\"catalog.schema.cpt_codes_index\",\n",
    "#         num_results=1,\n",
    "#         tool_name=\"cpt_codes_retriever\",\n",
    "#         tool_description=\"Retrieves information about cpt codes\",\n",
    "#         query_type=\"ANN\",\n",
    "#     )\n",
    "# ]\n",
    "# tools.extend(vector_search_index_tools)\n",
    "\n",
    "# # (Optional) Use Databricks vector search indexes as tools\n",
    "# # See https://docs.databricks.com/generative-ai/agent-framework/unstructured-retrieval-tools.html\n",
    "# # for details\n",
    "#\n",
    "# # TODO: Add vector search indexes as tools or delete this block\n",
    "# vector_search_tools = [\n",
    "#         VectorSearchRetrieverTool(\n",
    "#         index_name=\"\",\n",
    "#         # filters=\"...\"\n",
    "#     )\n",
    "# ]\n",
    "# tools.extend(vector_search_tools)\n",
    "\n",
    "\n",
    "#####################\n",
    "## Define agent logic\n",
    "#####################\n",
    "\n",
    "\n",
    "def create_tool_calling_agent(\n",
    "    model: LanguageModelLike,\n",
    "    tools: Union[Sequence[BaseTool], ToolNode],\n",
    "    system_prompt: Optional[str] = None,\n",
    ") -> CompiledGraph:\n",
    "    # parallel_tool_calls parameter is currently only supported by OpenAI and Anthropic.\n",
    "    model = model.bind_tools(tools, parallel_tool_calls=True)\n",
    "\n",
    "    # Define the function that determines which node to go to\n",
    "    def should_continue(state: ChatAgentState):\n",
    "        messages = state[\"messages\"]\n",
    "        last_message = messages[-1]\n",
    "        # If there are function calls, continue. else, end\n",
    "        if last_message.get(\"tool_calls\"):\n",
    "            return \"continue\"\n",
    "        else:\n",
    "            return \"end\"\n",
    "\n",
    "    if system_prompt:\n",
    "        preprocessor = RunnableLambda(\n",
    "            lambda state: [{\"role\": \"system\", \"content\": system_prompt}]\n",
    "            + state[\"messages\"]\n",
    "        )\n",
    "    else:\n",
    "        preprocessor = RunnableLambda(lambda state: state[\"messages\"])\n",
    "    model_runnable = preprocessor | model\n",
    "\n",
    "    def call_model(\n",
    "        state: ChatAgentState,\n",
    "        config: RunnableConfig,\n",
    "    ):\n",
    "        response = model_runnable.invoke(state, config)\n",
    "\n",
    "        return {\"messages\": [response]}\n",
    "\n",
    "    workflow = StateGraph(ChatAgentState)\n",
    "\n",
    "    workflow.add_node(\"agent\", RunnableLambda(call_model))\n",
    "    workflow.add_node(\"tools\", ChatAgentToolNode(tools))\n",
    "\n",
    "    workflow.set_entry_point(\"agent\")\n",
    "    workflow.add_conditional_edges(\n",
    "        \"agent\",\n",
    "        should_continue,\n",
    "        {\n",
    "            \"continue\": \"tools\",\n",
    "            \"end\": END,\n",
    "        },\n",
    "    )\n",
    "    workflow.add_edge(\"tools\", \"agent\")\n",
    "\n",
    "    return workflow.compile()\n",
    "\n",
    "\n",
    "class LangGraphChatAgent(ChatAgent):\n",
    "    def __init__(self, agent: CompiledStateGraph):\n",
    "        self.agent = agent\n",
    "\n",
    "    def predict(\n",
    "        self,\n",
    "        messages: list[ChatAgentMessage],\n",
    "        context: Optional[ChatContext] = None,\n",
    "        custom_inputs: Optional[dict[str, Any]] = None,\n",
    "    ) -> ChatAgentResponse:\n",
    "        request = {\"messages\": self._convert_messages_to_dict(messages)}\n",
    "\n",
    "        messages = []\n",
    "        for event in self.agent.stream(request, stream_mode=\"updates\"):\n",
    "            for node_data in event.values():\n",
    "                messages.extend(\n",
    "                    ChatAgentMessage(**msg) for msg in node_data.get(\"messages\", [])\n",
    "                )\n",
    "        return ChatAgentResponse(messages=messages)\n",
    "\n",
    "    def predict_stream(\n",
    "        self,\n",
    "        messages: list[ChatAgentMessage],\n",
    "        context: Optional[ChatContext] = None,\n",
    "        custom_inputs: Optional[dict[str, Any]] = None,\n",
    "    ) -> Generator[ChatAgentChunk, None, None]:\n",
    "        request = {\"messages\": self._convert_messages_to_dict(messages)}\n",
    "        for event in self.agent.stream(request, stream_mode=\"updates\"):\n",
    "            for node_data in event.values():\n",
    "                yield from (\n",
    "                    ChatAgentChunk(**{\"delta\": msg}) for msg in node_data[\"messages\"]\n",
    "                )\n",
    "\n",
    "\n",
    "# Create the agent object, and specify it as the agent object to use when\n",
    "# loading the agent back for inference via mlflow.models.set_model()\n",
    "agent = create_tool_calling_agent(llm, tools, system_prompt)\n",
    "AGENT = LangGraphChatAgent(agent)\n",
    "mlflow.models.set_model(AGENT)"
   ]
  },
  {
   "cell_type": "markdown",
   "metadata": {
    "application/vnd.databricks.v1+cell": {
     "cellMetadata": {
      "byteLimit": 2048000,
      "rowLimit": 10000
     },
     "inputWidgets": {},
     "nuid": "dd7d2600-e01a-46f6-8c33-017b2cf39bcf",
     "showTitle": false,
     "tableResultSettingsMap": {},
     "title": ""
    }
   },
   "source": [
    "## Test the agent\n",
    "\n",
    "Interact with the agent to test its output. Since this notebook called `mlflow.langchain.autolog()` you can view the trace for each step the agent takes.\n",
    "\n",
    "Replace this placeholder input with an appropriate domain-specific example for your agent."
   ]
  },
  {
   "cell_type": "code",
   "execution_count": 0,
   "metadata": {
    "application/vnd.databricks.v1+cell": {
     "cellMetadata": {
      "byteLimit": 2048000,
      "rowLimit": 10000
     },
     "inputWidgets": {},
     "nuid": "3c0708fe-99c2-479b-912d-0085bd103103",
     "showTitle": false,
     "tableResultSettingsMap": {},
     "title": ""
    }
   },
   "outputs": [],
   "source": [
    "# dbutils.library.restartPython()"
   ]
  },
  {
   "cell_type": "code",
   "execution_count": 0,
   "metadata": {
    "application/vnd.databricks.v1+cell": {
     "cellMetadata": {
      "byteLimit": 2048000,
      "rowLimit": 10000
     },
     "inputWidgets": {},
     "nuid": "d8951655-81c0-4b7e-9c22-5043c9baa834",
     "showTitle": false,
     "tableResultSettingsMap": {},
     "title": ""
    }
   },
   "outputs": [],
   "source": [
    "from agent import AGENT\n",
    "\n",
    "AGENT.predict(\n",
    "    {\n",
    "        \"messages\": [\n",
    "            {\n",
    "                \"role\": \"user\",\n",
    "                \"content\": \"my member id is 1234. what is cost of hip replacement considering my IP address is 172.217.22.14?\",\n",
    "            }\n",
    "        ]\n",
    "    }\n",
    ")"
   ]
  },
  {
   "cell_type": "code",
   "execution_count": 0,
   "metadata": {
    "application/vnd.databricks.v1+cell": {
     "cellMetadata": {
      "byteLimit": 2048000,
      "rowLimit": 10000
     },
     "inputWidgets": {},
     "nuid": "7b9dddbc-d49a-4077-84d2-a7e65e4dead7",
     "showTitle": false,
     "tableResultSettingsMap": {},
     "title": ""
    }
   },
   "outputs": [],
   "source": [
    "# for event in AGENT.predict_stream(\n",
    "#     {\"messages\": [{\"role\": \"user\", \"content\": \"What tables are related to 'supply chain'?\"}]}\n",
    "# ):\n",
    "#     print(event, \"-----------\\n\")"
   ]
  },
  {
   "cell_type": "code",
   "execution_count": 0,
   "metadata": {
    "application/vnd.databricks.v1+cell": {
     "cellMetadata": {
      "byteLimit": 2048000,
      "rowLimit": 10000
     },
     "inputWidgets": {},
     "nuid": "72baa83c-0ba2-4da6-907b-9fa0bb9fc93d",
     "showTitle": false,
     "tableResultSettingsMap": {},
     "title": ""
    }
   },
   "outputs": [],
   "source": [
    "from IPython.display import Image, display\n",
    "\n",
    "graph = AGENT.agent\n",
    "display(Image(graph.get_graph().draw_mermaid_png()))"
   ]
  },
  {
   "cell_type": "markdown",
   "metadata": {
    "application/vnd.databricks.v1+cell": {
     "cellMetadata": {
      "byteLimit": 2048000,
      "rowLimit": 10000
     },
     "inputWidgets": {},
     "nuid": "1ac0cfdb-37e4-4c9a-a2aa-9d890320bfce",
     "showTitle": false,
     "tableResultSettingsMap": {},
     "title": ""
    }
   },
   "source": [
    "### Log the `agent` as an MLflow model\n",
    "Determine Databricks resources to specify for automatic auth passthrough at deployment time\n",
    "- **TODO**: If your Unity Catalog tool queries a [vector search index](https://docs.databricks.com/generative-ai/agent-framework/unstructured-retrieval-tools.html) or leverages [external functions](https://docs.databricks.com/generative-ai/agent-framework/external-connection-tools.html), you need to include the dependent vector search index and UC connection objects, respectively, as resources. See [docs](https://docs.databricks.com/generative-ai/agent-framework/log-agent.html#specify-resources-for-automatic-authentication-passthrough) for more details.\n",
    "\n",
    "Log the agent as code from the `agent.py` file. See [MLflow - Models from Code](https://mlflow.org/docs/latest/models.html#models-from-code)."
   ]
  },
  {
   "cell_type": "code",
   "execution_count": 0,
   "metadata": {
    "application/vnd.databricks.v1+cell": {
     "cellMetadata": {
      "byteLimit": 2048000,
      "rowLimit": 10000
     },
     "inputWidgets": {},
     "nuid": "2e47bff7-ec79-4f1a-bb99-9fbafe3a7215",
     "showTitle": false,
     "tableResultSettingsMap": {},
     "title": ""
    }
   },
   "outputs": [],
   "source": [
    "# Determine Databricks resources to specify for automatic auth passthrough at deployment time\n",
    "import mlflow\n",
    "from agent import tools, LLM_ENDPOINT_NAME\n",
    "from databricks_langchain import VectorSearchRetrieverTool\n",
    "from mlflow.models.resources import (\n",
    "    DatabricksFunction,\n",
    "    DatabricksServingEndpoint,\n",
    "    DatabricksTable,\n",
    "    DatabricksVectorSearchIndex,\n",
    ")\n",
    "from unitycatalog.ai.langchain.toolkit import UnityCatalogTool\n",
    "\n",
    "# TODO: Manually include underlying resources if needed. See the TODO in the markdown above for more information.\n",
    "uc_tool_catalog = \"catalog\"\n",
    "uc_tool_schema = \"schema\"\n",
    "resources = [\n",
    "    # DatabricksServingEndpoint(endpoint_name=LLM_ENDPOINT_NAME),\n",
    "    DatabricksVectorSearchIndex(\n",
    "        index_name=f\"{uc_tool_catalog}.{uc_tool_schema}.cpt_codes_index\"\n",
    "    ),\n",
    "]\n",
    "tables = [\"cpt_codes\", \"member_accumulators\", \"procedure_cost\"]\n",
    "for table in tables:\n",
    "    resources.append(\n",
    "        DatabricksTable(table_name=f\"{uc_tool_catalog}.{uc_tool_schema}.{table}\")\n",
    "    )\n",
    "for tool in tools:\n",
    "    if isinstance(tool, VectorSearchRetrieverTool):\n",
    "        resources.extend(tool.resources)\n",
    "    elif isinstance(tool, UnityCatalogTool):\n",
    "        resources.append(DatabricksFunction(function_name=tool.uc_function_name))\n",
    "\n",
    "input_example = {\n",
    "    \"messages\": [\n",
    "        {\n",
    "            \"role\": \"user\",\n",
    "            \"content\": \"my member id is 1234. what is cost of hip replacement considering my IP address is 172.217.22.14?\",\n",
    "        }\n",
    "    ]\n",
    "}\n",
    "\n",
    "with mlflow.start_run():\n",
    "    logged_agent_info = mlflow.pyfunc.log_model(\n",
    "        artifact_path=\"agent\",\n",
    "        python_model=\"agent.py\",\n",
    "        input_example=input_example,\n",
    "        resources=resources,\n",
    "        extra_pip_requirements=[\n",
    "            \"databricks-connect\",\n",
    "        ],\n",
    "    )"
   ]
  },
  {
   "cell_type": "markdown",
   "metadata": {
    "application/vnd.databricks.v1+cell": {
     "cellMetadata": {
      "byteLimit": 2048000,
      "rowLimit": 10000
     },
     "inputWidgets": {},
     "nuid": "cde8b1b1-1552-4375-8ce2-b57ff505e756",
     "showTitle": false,
     "tableResultSettingsMap": {},
     "title": ""
    }
   },
   "source": [
    "## Evaluate the agent with [Agent Evaluation](https://docs.databricks.com/generative-ai/agent-evaluation/index.html)\n",
    "\n",
    "You can edit the requests or expected responses in your evaluation dataset and run evaluation as you iterate your agent, leveraging mlflow to track the computed quality metrics.\n",
    "\n",
    "To evaluate your tool calls, try adding [custom metrics](https://docs.databricks.com/generative-ai/agent-evaluation/custom-metrics.html#evaluating-tool-calls)."
   ]
  },
  {
   "cell_type": "code",
   "execution_count": 0,
   "metadata": {
    "application/vnd.databricks.v1+cell": {
     "cellMetadata": {
      "byteLimit": 2048000,
      "rowLimit": 10000
     },
     "inputWidgets": {},
     "nuid": "063bb2c6-bb0c-4b13-97f8-0c41a87fa750",
     "showTitle": false,
     "tableResultSettingsMap": {},
     "title": ""
    }
   },
   "outputs": [],
   "source": [
    "import pandas as pd\n",
    "\n",
    "eval_examples = [\n",
    "    {\n",
    "        \"request\": {\n",
    "            \"messages\": [\n",
    "                {\n",
    "                    \"role\": \"user\",\n",
    "                    \"content\": \"my member id is 1234. what is cost of hip replacement considering my IP address is 172.217.22.14?\",\n",
    "                }\n",
    "            ]\n",
    "        },\n",
    "        \"expected_response\": None,\n",
    "    }\n",
    "]\n",
    "\n",
    "eval_dataset = pd.DataFrame(eval_examples)\n",
    "display(eval_dataset)"
   ]
  },
  {
   "cell_type": "code",
   "execution_count": 0,
   "metadata": {
    "application/vnd.databricks.v1+cell": {
     "cellMetadata": {
      "byteLimit": 2048000,
      "rowLimit": 10000
     },
     "inputWidgets": {},
     "nuid": "132d830f-8869-4f35-bad9-977cc7622ff9",
     "showTitle": false,
     "tableResultSettingsMap": {},
     "title": ""
    }
   },
   "outputs": [],
   "source": [
    "import mlflow\n",
    "\n",
    "with mlflow.start_run(run_id=logged_agent_info.run_id):\n",
    "    eval_results = mlflow.evaluate(\n",
    "        f\"runs:/{logged_agent_info.run_id}/agent\",\n",
    "        data=eval_dataset,  # Your evaluation dataset\n",
    "        model_type=\"databricks-agent\",  # Enable Mosaic AI Agent Evaluation\n",
    "    )"
   ]
  },
  {
   "cell_type": "code",
   "execution_count": 0,
   "metadata": {
    "application/vnd.databricks.v1+cell": {
     "cellMetadata": {
      "byteLimit": 2048000,
      "rowLimit": 10000
     },
     "inputWidgets": {},
     "nuid": "77ec2bfa-16b3-494e-8301-b7ffb8ca17c2",
     "showTitle": false,
     "tableResultSettingsMap": {},
     "title": ""
    }
   },
   "outputs": [],
   "source": [
    "# Review the evaluation results in the MLFLow UI (see console output), or access them in place:\n",
    "eval_results.tables[\"eval_results\"]"
   ]
  },
  {
   "cell_type": "markdown",
   "metadata": {
    "application/vnd.databricks.v1+cell": {
     "cellMetadata": {
      "byteLimit": 2048000,
      "rowLimit": 10000
     },
     "inputWidgets": {},
     "nuid": "1b1ec654-5f47-47e4-be00-543ac3fe11f4",
     "showTitle": false,
     "tableResultSettingsMap": {},
     "title": ""
    }
   },
   "source": [
    "## Perform pre-deployment validation of the agent\n",
    "Before registering and deploying the agent, we perform pre-deployment checks via the [mlflow.models.predict()](https://mlflow.org/docs/latest/python_api/mlflow.models.html#mlflow.models.predict) API. See [documentation](https://docs.databricks.com/machine-learning/model-serving/model-serving-debug.html#validate-inputs) for details"
   ]
  },
  {
   "cell_type": "code",
   "execution_count": 0,
   "metadata": {
    "application/vnd.databricks.v1+cell": {
     "cellMetadata": {
      "byteLimit": 2048000,
      "rowLimit": 10000
     },
     "inputWidgets": {},
     "nuid": "469404b2-633c-4a15-a11e-b1863d4e7096",
     "showTitle": false,
     "tableResultSettingsMap": {},
     "title": ""
    }
   },
   "outputs": [],
   "source": [
    "mlflow.models.predict(\n",
    "    model_uri=f\"runs:/{logged_agent_info.run_id}/agent\",\n",
    "    input_data={\n",
    "        \"messages\": [\n",
    "            {\n",
    "                \"role\": \"user\",\n",
    "                \"content\": \"my member id is 1234. what is cost of hip replacement considering my IP address is 172.217.22.14?\",\n",
    "            }\n",
    "        ]\n",
    "    },\n",
    "    env_manager=\"uv\",\n",
    ")"
   ]
  },
  {
   "cell_type": "markdown",
   "metadata": {
    "application/vnd.databricks.v1+cell": {
     "cellMetadata": {
      "byteLimit": 2048000,
      "rowLimit": 10000
     },
     "inputWidgets": {},
     "nuid": "7ab6beba-916a-49ef-86ec-05a04d7d4a0b",
     "showTitle": false,
     "tableResultSettingsMap": {},
     "title": ""
    }
   },
   "source": [
    "## Register the model to Unity Catalog\n",
    "\n",
    "Update the `catalog`, `schema`, and `model_name` below to register the MLflow model to Unity Catalog."
   ]
  },
  {
   "cell_type": "code",
   "execution_count": 0,
   "metadata": {
    "application/vnd.databricks.v1+cell": {
     "cellMetadata": {
      "byteLimit": 2048000,
      "rowLimit": 10000
     },
     "inputWidgets": {},
     "nuid": "e5beeea7-f280-4e8a-840e-1283256515ef",
     "showTitle": false,
     "tableResultSettingsMap": {},
     "title": ""
    }
   },
   "outputs": [],
   "source": [
    "mlflow.set_registry_uri(\"databricks-uc\")\n",
    "\n",
    "# TODO: define the catalog, schema, and model name for your UC model\n",
    "UC_MODEL_NAME = f\"{catalog}.{schema}.{model}\"\n",
    "\n",
    "# register the model to UC\n",
    "uc_registered_model_info = mlflow.register_model(\n",
    "    model_uri=logged_agent_info.model_uri,\n",
    "    name=UC_MODEL_NAME,\n",
    ")"
   ]
  },
  {
   "cell_type": "markdown",
   "metadata": {
    "application/vnd.databricks.v1+cell": {
     "cellMetadata": {
      "byteLimit": 2048000,
      "rowLimit": 10000
     },
     "inputWidgets": {},
     "nuid": "1eeebc23-c206-4716-824e-09ce944785a5",
     "showTitle": false,
     "tableResultSettingsMap": {},
     "title": ""
    }
   },
   "source": [
    "## Deploy the agent"
   ]
  },
  {
   "cell_type": "code",
   "execution_count": 0,
   "metadata": {
    "application/vnd.databricks.v1+cell": {
     "cellMetadata": {
      "byteLimit": 2048000,
      "rowLimit": 10000
     },
     "inputWidgets": {},
     "nuid": "f3691d4a-55e2-4ec0-a8a9-e2d90db0d06d",
     "showTitle": false,
     "tableResultSettingsMap": {},
     "title": ""
    }
   },
   "outputs": [],
   "source": [
    "from databricks import agents\n",
    "\n",
    "agents.deploy(\n",
    "    UC_MODEL_NAME,\n",
    "    uc_registered_model_info.version,\n",
    "    environment_vars={\n",
    "        \"DATABRICKS_TOKEN\": \"{{secrets/dbdemos/DATABRICKS_TOKEN}}\",\n",
    "        \"DATABRICKS_HOST\": \"{{secrets/dbdemos/DATABRICKS_HOST}}\",\n",
    "        \"SERPER_API_KEY\": \"{{secrets/dbdemos/SERPER_API_KEY}}\",\n",
    "        \"OPENAI_API_KEY\": \"{{secrets/dbdemos/OpenAIBo}}\",\n",
    "    },\n",
    "    tags={\"endpointSource\": \"playground\"},\n",
    ")"
   ]
  },
  {
   "cell_type": "code",
   "execution_count": 0,
   "metadata": {
    "application/vnd.databricks.v1+cell": {
     "cellMetadata": {
      "byteLimit": 2048000,
      "rowLimit": 10000
     },
     "inputWidgets": {},
     "nuid": "41c13568-06eb-422b-807b-e69dbefa9567",
     "showTitle": false,
     "tableResultSettingsMap": {},
     "title": ""
    }
   },
   "outputs": [],
   "source": [
    "from databricks import agents\n",
    "\n",
    "# Note that <user_list> can specify individual users or groups.\n",
    "agents.set_permissions(\n",
    "    model_name=UC_MODEL_NAME,\n",
    "    users=[\"users\"],\n",
    "    permission_level=agents.PermissionLevel.CAN_QUERY,\n",
    ")"
   ]
  },
  {
   "cell_type": "markdown",
   "metadata": {
    "application/vnd.databricks.v1+cell": {
     "cellMetadata": {
      "byteLimit": 2048000,
      "rowLimit": 10000
     },
     "inputWidgets": {},
     "nuid": "3fd81e39-8c09-473e-a566-2019666bf24f",
     "showTitle": false,
     "tableResultSettingsMap": {},
     "title": ""
    }
   },
   "source": [
    "## Next steps\n",
    "\n",
    "After your agent is deployed, you can chat with it in AI playground to perform additional checks, share it with SMEs in your organization for feedback, or embed it in a production application. See [docs](https://docs.databricks.com/generative-ai/deploy-agent.html) for details"
   ]
  },
  {
   "cell_type": "code",
   "execution_count": 0,
   "metadata": {
    "application/vnd.databricks.v1+cell": {
     "cellMetadata": {
      "byteLimit": 2048000,
      "rowLimit": 10000
     },
     "inputWidgets": {},
     "nuid": "bad35f4c-fa63-41fd-a80a-2c698ec7507c",
     "showTitle": false,
     "tableResultSettingsMap": {},
     "title": ""
    }
   },
   "outputs": [],
   "source": [
    "import time\n",
    "from databricks.sdk.service.serving import EndpointStateReady, EndpointStateConfigUpdate\n",
    "from databricks.sdk import WorkspaceClient\n",
    "\n",
    "endpoint_name: str = f\"agents_{catalog}-{schema}-{model}\"\n",
    "print(\"\\nWaiting for endpoint to deploy.  This can take 10 - 20 minutes.\", end=\"\")\n",
    "w = WorkspaceClient()\n",
    "while (\n",
    "    w.serving_endpoints.get(endpoint_name).state.ready == EndpointStateReady.NOT_READY\n",
    "    or w.serving_endpoints.get(endpoint_name).state.config_update\n",
    "    == EndpointStateConfigUpdate.IN_PROGRESS\n",
    "):\n",
    "    print(\".\", end=\"\")\n",
    "    time.sleep(30)"
   ]
  },
  {
   "cell_type": "code",
   "execution_count": 0,
   "metadata": {
    "application/vnd.databricks.v1+cell": {
     "cellMetadata": {
      "byteLimit": 2048000,
      "rowLimit": 10000
     },
     "inputWidgets": {},
     "nuid": "2d42871b-8ca9-4463-ab2a-5ba5dd90a818",
     "showTitle": false,
     "tableResultSettingsMap": {},
     "title": ""
    }
   },
   "outputs": [],
   "source": [
    "from databricks.sdk import WorkspaceClient\n",
    "\n",
    "w = WorkspaceClient()\n",
    "endpoint_name: str = f\"agents_{catalog}-{schema}-{model}\"\n",
    "response = w.serving_endpoints.query(\n",
    "    name=endpoint_name,\n",
    "    dataframe_records=[\n",
    "        {\n",
    "            \"messages\": [\n",
    "                {\n",
    "                    \"role\": \"user\",\n",
    "                    \"content\": \"my member id is 1234. what is cost of hip replacement considering my IP address is 172.217.22.14?\",\n",
    "                }\n",
    "            ]\n",
    "        }\n",
    "    ],\n",
    "    temperature=0.1,\n",
    ")"
   ]
  },
  {
   "cell_type": "code",
   "execution_count": 0,
   "metadata": {
    "application/vnd.databricks.v1+cell": {
     "cellMetadata": {
      "byteLimit": 2048000,
      "rowLimit": 10000
     },
     "inputWidgets": {},
     "nuid": "ecad0a09-e28e-4ac1-aaad-2e9dfad64fad",
     "showTitle": false,
     "tableResultSettingsMap": {},
     "title": ""
    }
   },
   "outputs": [],
   "source": [
    "[\n",
    "    message\n",
    "    for message in response.predictions.get(\"messages\")\n",
    "    if message.get(\"tool_calls\") is not None\n",
    "    and message.get(\"tool_calls\")[0].get(\"function\") is not None\n",
    "    and message.get(\"tool_calls\")[0].get(\"function\").get(\"name\") == \"ResponseFormatter\"\n",
    "][0]"
   ]
  },
  {
   "cell_type": "code",
   "execution_count": 0,
   "metadata": {
    "application/vnd.databricks.v1+cell": {
     "cellMetadata": {
      "byteLimit": 2048000,
      "rowLimit": 10000
     },
     "inputWidgets": {},
     "nuid": "a7199924-06c1-4ed1-941b-23b1cd788a4f",
     "showTitle": false,
     "tableResultSettingsMap": {},
     "title": ""
    }
   },
   "outputs": [],
   "source": [
    "response.predictions.get(\"messages\")[-3]"
   ]
  },
  {
   "cell_type": "code",
   "execution_count": 0,
   "metadata": {
    "application/vnd.databricks.v1+cell": {
     "cellMetadata": {
      "byteLimit": 2048000,
      "rowLimit": 10000
     },
     "inputWidgets": {},
     "nuid": "96004f84-eca8-4cbb-b315-bcea70bb8c74",
     "showTitle": false,
     "tableResultSettingsMap": {},
     "title": ""
    }
   },
   "outputs": [],
   "source": [
    "import json\n",
    "\n",
    "json.loads(\n",
    "    response.predictions.get(\"messages\")[-3]\n",
    "    .get(\"tool_calls\")[0]\n",
    "    .get(\"function\")\n",
    "    .get(\"arguments\")\n",
    ")"
   ]
  },
  {
   "cell_type": "code",
   "execution_count": 0,
   "metadata": {
    "application/vnd.databricks.v1+cell": {
     "cellMetadata": {
      "byteLimit": 2048000,
      "rowLimit": 10000
     },
     "inputWidgets": {},
     "nuid": "c5cd2b5b-047b-42f0-b991-8d2e222307a0",
     "showTitle": false,
     "tableResultSettingsMap": {},
     "title": ""
    }
   },
   "outputs": [],
   "source": [
    "response.predictions.get('messages')[-1]"
   ]
  },
  {
   "cell_type": "markdown",
   "metadata": {
    "application/vnd.databricks.v1+cell": {
     "cellMetadata": {
      "byteLimit": 2048000,
      "rowLimit": 10000
     },
     "inputWidgets": {},
     "nuid": "6b87f80e-11f5-4977-a09d-676d00273e0e",
     "showTitle": false,
     "tableResultSettingsMap": {},
     "title": ""
    }
   },
   "source": [
    "## AI Playground integration with agent endpoint"
   ]
  }
 ],
 "metadata": {
  "application/vnd.databricks.v1+notebook": {
   "computePreferences": null,
   "dashboards": [],
   "environmentMetadata": null,
   "inputWidgetPreferences": null,
   "language": "python",
   "notebookMetadata": {
    "mostRecentlyExecutedCommandWithImplicitDF": {
     "commandId": 2013334455502873,
     "dataframes": [
      "_sqldf"
     ]
    },
    "pythonIndentUnit": 2
   },
   "notebookName": "single-agent-driver-multi-tool",
   "widgets": {
    "DATABRICKS_TOKEN": {
     "currentValue": "",
     "nuid": "f046bb5a-910a-4e2a-bcd0-64df78227819",
     "typedWidgetInfo": {
      "autoCreated": false,
      "defaultValue": "",
      "label": "DATABRICKS_TOKEN",
      "name": "DATABRICKS_TOKEN",
      "options": {
       "widgetDisplayType": "Text",
       "validationRegex": null
      },
      "parameterDataType": "String"
     },
     "widgetInfo": {
      "widgetType": "text",
      "defaultValue": "",
      "label": "DATABRICKS_TOKEN",
      "name": "DATABRICKS_TOKEN",
      "options": {
       "widgetType": "text",
       "autoCreated": null,
       "validationRegex": null
      }
     }
    },
    "OPENAI_API_KEY": {
     "currentValue": "",
     "nuid": "95588a69-4e16-4479-96e3-b6aefb82dbc7",
     "typedWidgetInfo": {
      "autoCreated": false,
      "defaultValue": "",
      "label": "OPENAI_API_KEY",
      "name": "OPENAI_API_KEY",
      "options": {
       "widgetDisplayType": "Text",
       "validationRegex": null
      },
      "parameterDataType": "String"
     },
     "widgetInfo": {
      "widgetType": "text",
      "defaultValue": "",
      "label": "OPENAI_API_KEY",
      "name": "OPENAI_API_KEY",
      "options": {
       "widgetType": "text",
       "autoCreated": null,
       "validationRegex": null
      }
     }
    },
    "SERPER_API_KEY": {
     "currentValue": "",
     "nuid": "303b06d5-4569-4e66-be0e-aba598d64dc1",
     "typedWidgetInfo": {
      "autoCreated": false,
      "defaultValue": "",
      "label": "SERPER_API_KEY",
      "name": "SERPER_API_KEY",
      "options": {
       "widgetDisplayType": "Text",
       "validationRegex": null
      },
      "parameterDataType": "String"
     },
     "widgetInfo": {
      "widgetType": "text",
      "defaultValue": "",
      "label": "SERPER_API_KEY",
      "name": "SERPER_API_KEY",
      "options": {
       "widgetType": "text",
       "autoCreated": null,
       "validationRegex": null
      }
     }
    },
    "catalog": {
     "currentValue": "bo_cheng_dnb_demos",
     "nuid": "df6a5a84-0f42-474d-a3df-ea0c7678f4aa",
     "typedWidgetInfo": {
      "autoCreated": false,
      "defaultValue": "bo_cheng_dnb_demos",
      "label": "catalog",
      "name": "catalog",
      "options": {
       "widgetDisplayType": "Text",
       "validationRegex": null
      },
      "parameterDataType": "String"
     },
     "widgetInfo": {
      "widgetType": "text",
      "defaultValue": "bo_cheng_dnb_demos",
      "label": "catalog",
      "name": "catalog",
      "options": {
       "widgetType": "text",
       "autoCreated": null,
       "validationRegex": null
      }
     }
    },
    "model": {
     "currentValue": "hls_agent",
     "nuid": "082ac543-8f54-48b9-a577-11297d8b2314",
     "typedWidgetInfo": {
      "autoCreated": false,
      "defaultValue": "serper_agent",
      "label": "model",
      "name": "model",
      "options": {
       "widgetDisplayType": "Text",
       "validationRegex": null
      },
      "parameterDataType": "String"
     },
     "widgetInfo": {
      "widgetType": "text",
      "defaultValue": "serper_agent",
      "label": "model",
      "name": "model",
      "options": {
       "widgetType": "text",
       "autoCreated": null,
       "validationRegex": null
      }
     }
    },
    "schema": {
     "currentValue": "agents",
     "nuid": "96ab0a10-9b9f-452c-b5f1-15e76030b1b6",
     "typedWidgetInfo": {
      "autoCreated": false,
      "defaultValue": "agents",
      "label": "schema",
      "name": "schema",
      "options": {
       "widgetDisplayType": "Text",
       "validationRegex": null
      },
      "parameterDataType": "String"
     },
     "widgetInfo": {
      "widgetType": "text",
      "defaultValue": "agents",
      "label": "schema",
      "name": "schema",
      "options": {
       "widgetType": "text",
       "autoCreated": null,
       "validationRegex": null
      }
     }
    },
    "secret_scope": {
     "currentValue": "dbdemos",
     "nuid": "182cc13d-5cc4-48a5-9db2-3b9c813ebe16",
     "typedWidgetInfo": {
      "autoCreated": false,
      "defaultValue": "dbdemos",
      "label": "secret_scope",
      "name": "secret_scope",
      "options": {
       "widgetDisplayType": "Text",
       "validationRegex": null
      },
      "parameterDataType": "String"
     },
     "widgetInfo": {
      "widgetType": "text",
      "defaultValue": "dbdemos",
      "label": "secret_scope",
      "name": "secret_scope",
      "options": {
       "widgetType": "text",
       "autoCreated": null,
       "validationRegex": null
      }
     }
    }
   }
  },
  "language_info": {
   "name": "python"
  }
 },
 "nbformat": 4,
 "nbformat_minor": 0
}
