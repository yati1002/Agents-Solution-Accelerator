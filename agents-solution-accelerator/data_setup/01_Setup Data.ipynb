{
 "cells": [
  {
   "cell_type": "markdown",
   "metadata": {
    "application/vnd.databricks.v1+cell": {
     "cellMetadata": {},
     "inputWidgets": {},
     "nuid": "2536ba5f-95f4-46b3-8702-ccfc16064f35",
     "showTitle": false,
     "tableResultSettingsMap": {},
     "title": ""
    }
   },
   "source": [
    "#Prepare Data\n",
    "###### Let us start by creating some synthetic data to work with.\n",
    "<img src=\"https://raw.githubusercontent.com/databricks-industry-solutions/CareCost-Compass/refs/heads/main/resources/build_1.png\" alt=\"Prepare Data\" width=\"900\" style=\"border:2px;\"/>\n",
    "\n",
    "\n",
    "\n",
    "This notebook will create CATALOG and SCHEMA if it does not exist and create the below data tables.\n",
    "\n",
    "**member_enrolment**: Table containing member enrolment information like client and plan_id\n",
    "\n",
    "**member_accumulators**: Table containing member accumulators like deductibles and out of pocket spent\n",
    "\n",
    "**cpt_codes**: Table containing CPT codes and descriptions\n",
    "\n",
    "**procedure_cost**: Table containing negotiated cost of each procedure. \n",
    "\n",
    "In addition to these tables, this notebook creates a Unity Catalog Volume and store the Summary of Benefit PDF files and CPT Code CSV files in appropriate folders\n",
    "\n",
    "We are using synthetic data as example. In reality robust Data Ingestion Pipelines will be used to manage this data in a Lakehouse.\n",
    "\n",
    "#####Read More:\n",
    "* [Databricks Volumes](https://docs.databricks.com/en/sql/language-manual/sql-ref-volumes.html)\n",
    "* [Ingest Data into Databricks Lakehouse](https://docs.databricks.com/en/ingestion/index.html)\n",
    "* [Data Pipelines in Databricks](https://docs.databricks.com/en/getting-started/data-pipeline-get-started.html)\n"
   ]
  },
  {
   "cell_type": "code",
   "execution_count": 0,
   "metadata": {
    "application/vnd.databricks.v1+cell": {
     "cellMetadata": {
      "byteLimit": 2048000,
      "rowLimit": 10000
     },
     "inputWidgets": {},
     "nuid": "7e115eee-8909-4c7a-a20f-0099d10afaa9",
     "showTitle": false,
     "tableResultSettingsMap": {},
     "title": ""
    }
   },
   "outputs": [],
   "source": [
    "%run ./utils/init"
   ]
  },
  {
   "cell_type": "markdown",
   "metadata": {
    "application/vnd.databricks.v1+cell": {
     "cellMetadata": {},
     "inputWidgets": {},
     "nuid": "ea72902a-3b9d-41f8-a259-b2744313689f",
     "showTitle": false,
     "tableResultSettingsMap": {},
     "title": ""
    }
   },
   "source": [
    "####Create Catalog and Schema"
   ]
  },
  {
   "cell_type": "code",
   "execution_count": 0,
   "metadata": {
    "application/vnd.databricks.v1+cell": {
     "cellMetadata": {
      "byteLimit": 2048000,
      "rowLimit": 10000
     },
     "inputWidgets": {},
     "nuid": "8af2a649-8494-469c-bb0d-79e65053b54c",
     "showTitle": false,
     "tableResultSettingsMap": {},
     "title": ""
    }
   },
   "outputs": [],
   "source": [
    "spark.sql(f\"CREATE CATALOG IF NOT EXISTS {catalog}\")\n",
    "spark.sql(f\"CREATE SCHEMA IF NOT EXISTS {catalog}.{schema}\")\n",
    "spark.sql(f\"CREATE VOLUME IF NOT EXISTS {catalog}.{schema}.{sbc_folder}\")\n",
    "spark.sql(f\"CREATE VOLUME IF NOT EXISTS {catalog}.{schema}.{cpt_folder}\")"
   ]
  },
  {
   "cell_type": "markdown",
   "metadata": {
    "application/vnd.databricks.v1+cell": {
     "cellMetadata": {},
     "inputWidgets": {},
     "nuid": "b063e840-49db-4875-b5e5-8c3718004e1f",
     "showTitle": false,
     "tableResultSettingsMap": {},
     "title": ""
    }
   },
   "source": [
    "#### Copy Files to Volume\n"
   ]
  },
  {
   "cell_type": "code",
   "execution_count": 0,
   "metadata": {
    "application/vnd.databricks.v1+cell": {
     "cellMetadata": {
      "byteLimit": 2048000,
      "rowLimit": 10000
     },
     "inputWidgets": {},
     "nuid": "207cba3a-516c-4a5d-a54d-914abc450932",
     "showTitle": false,
     "tableResultSettingsMap": {},
     "title": ""
    }
   },
   "outputs": [],
   "source": [
    "# Let us first copy the SBC files\n",
    "import shutil\n",
    "\n",
    "for sbc_file in sbc_files:\n",
    "    shutil.copyfile(\n",
    "        f\"/Workspace/{project_root_path}/resources/{sbc_file}\",\n",
    "        f\"{sbc_folder_path}/{sbc_file}\",\n",
    "    )"
   ]
  },
  {
   "cell_type": "code",
   "execution_count": 0,
   "metadata": {
    "application/vnd.databricks.v1+cell": {
     "cellMetadata": {
      "byteLimit": 2048000,
      "rowLimit": 10000
     },
     "inputWidgets": {},
     "nuid": "1092c9a7-f5e1-4cf8-90ce-0831c9f75e29",
     "showTitle": false,
     "tableResultSettingsMap": {},
     "title": ""
    }
   },
   "outputs": [],
   "source": [
    "# Now lets copy the cpt codes file\n",
    "# Downloaded from https://www.cdc.gov/nhsn/xls/cpt-pcm-nhsn.xlsx\n",
    "\n",
    "shutil.copyfile(\n",
    "    f\"/Workspace/{project_root_path}/resources/{cpt_file}\",\n",
    "    f\"{cpt_folder_path}/{cpt_file}\",\n",
    ")"
   ]
  },
  {
   "cell_type": "markdown",
   "metadata": {
    "application/vnd.databricks.v1+cell": {
     "cellMetadata": {},
     "inputWidgets": {},
     "nuid": "8ad8bc16-5290-4110-9ca5-13e5456ce12e",
     "showTitle": false,
     "tableResultSettingsMap": {},
     "title": ""
    }
   },
   "source": [
    "#### Create Data Tables\n",
    "- Member Enrolment Table: Contains member details including the client id\n",
    "- Member Accumulator Table: Contain member year to date deductible accumulator\n",
    "- Procedure Cost Table: Contain estimated cost of all the covered procedures\n",
    "\n"
   ]
  },
  {
   "cell_type": "code",
   "execution_count": 0,
   "metadata": {
    "application/vnd.databricks.v1+cell": {
     "cellMetadata": {
      "byteLimit": 2048000,
      "rowLimit": 10000
     },
     "inputWidgets": {},
     "nuid": "8bb0484d-eafd-49dc-9821-933fbd3d78b7",
     "showTitle": false,
     "tableResultSettingsMap": {},
     "title": ""
    }
   },
   "outputs": [],
   "source": [
    "import pandas as pd\n",
    "from pyspark.sql.types import (\n",
    "    StructType,\n",
    "    StructField,\n",
    "    StringType,\n",
    "    DateType,\n",
    "    DoubleType,\n",
    "    IntegerType,\n",
    "    LongType,\n",
    ")\n",
    "import datetime"
   ]
  },
  {
   "cell_type": "markdown",
   "metadata": {
    "application/vnd.databricks.v1+cell": {
     "cellMetadata": {},
     "inputWidgets": {},
     "nuid": "fba4de9b-3284-48b6-a0a7-dfae684ef310",
     "showTitle": false,
     "tableResultSettingsMap": {},
     "title": ""
    }
   },
   "source": [
    "#####`member_enrolment`"
   ]
  },
  {
   "cell_type": "code",
   "execution_count": 0,
   "metadata": {
    "application/vnd.databricks.v1+cell": {
     "cellMetadata": {
      "byteLimit": 2048000,
      "rowLimit": 10000
     },
     "inputWidgets": {},
     "nuid": "2c072b69-029a-4f2a-bbbc-18765a13e306",
     "showTitle": false,
     "tableResultSettingsMap": {},
     "title": ""
    }
   },
   "outputs": [],
   "source": [
    "member_table_schema = StructType(\n",
    "    [\n",
    "        StructField(\"member_id\", StringType(), nullable=False),\n",
    "        StructField(\"client_id\", StringType(), nullable=False),\n",
    "        StructField(\"plan_id\", StringType(), nullable=False),\n",
    "        StructField(\"plan_start_date\", DateType(), nullable=False),\n",
    "        StructField(\"plan_end_date\", DateType(), nullable=False),\n",
    "        StructField(\"active_ind\", StringType(), nullable=False),\n",
    "    ]\n",
    ")\n",
    "\n",
    "member_data = [\n",
    "    (\n",
    "        \"1234\",\n",
    "        client_names[0],\n",
    "        \"P1\",\n",
    "        datetime.date(2024, 1, 1),\n",
    "        datetime.date(2024, 12, 31),\n",
    "        \"Y\",\n",
    "    ),\n",
    "    (\n",
    "        \"2345\",\n",
    "        client_names[0],\n",
    "        \"P1\",\n",
    "        datetime.date(2024, 1, 1),\n",
    "        datetime.date(2024, 12, 31),\n",
    "        \"Y\",\n",
    "    ),\n",
    "    (\n",
    "        \"7890\",\n",
    "        client_names[1],\n",
    "        \"P2\",\n",
    "        datetime.date(2024, 1, 1),\n",
    "        datetime.date(2024, 12, 31),\n",
    "        \"Y\",\n",
    "    ),\n",
    "]\n",
    "\n",
    "member = spark.createDataFrame(member_data, schema=member_table_schema)\n",
    "\n",
    "spark.sql(f\"DROP TABLE IF EXISTS {catalog}.{schema}.{member_table_name}\")\n",
    "\n",
    "spark.catalog.createTable(\n",
    "    f\"{catalog}.{schema}.{member_table_name}\", schema=member_table_schema\n",
    ")\n",
    "\n",
    "member.write.mode(\"append\").saveAsTable(f\"{catalog}.{schema}.{member_table_name}\")\n",
    "\n",
    "spark.sql(\n",
    "    f\"ALTER TABLE {catalog}.{schema}.{member_table_name} ADD CONSTRAINT {member_table_name}_pk PRIMARY KEY( member_id )\"\n",
    ")"
   ]
  },
  {
   "cell_type": "markdown",
   "metadata": {
    "application/vnd.databricks.v1+cell": {
     "cellMetadata": {},
     "inputWidgets": {},
     "nuid": "bba01cc5-a945-4349-83f5-15e03315257a",
     "showTitle": false,
     "tableResultSettingsMap": {},
     "title": ""
    }
   },
   "source": [
    "###### Inspect and Verify `Data`"
   ]
  },
  {
   "cell_type": "code",
   "execution_count": 0,
   "metadata": {
    "application/vnd.databricks.v1+cell": {
     "cellMetadata": {
      "byteLimit": 2048000,
      "rowLimit": 10000
     },
     "inputWidgets": {},
     "nuid": "dfe361fd-934b-4234-bbc4-041294d3b56e",
     "showTitle": false,
     "tableResultSettingsMap": {},
     "title": ""
    }
   },
   "outputs": [],
   "source": [
    "display(spark.table(f\"{catalog}.{schema}.{member_table_name}\"))"
   ]
  },
  {
   "cell_type": "markdown",
   "metadata": {
    "application/vnd.databricks.v1+cell": {
     "cellMetadata": {},
     "inputWidgets": {},
     "nuid": "41b77dd4-cb85-41ac-ba10-51391abd8e18",
     "showTitle": false,
     "tableResultSettingsMap": {},
     "title": ""
    }
   },
   "source": [
    "#####`member_accumulators`"
   ]
  },
  {
   "cell_type": "code",
   "execution_count": 0,
   "metadata": {
    "application/vnd.databricks.v1+cell": {
     "cellMetadata": {
      "byteLimit": 2048000,
      "rowLimit": 10000
     },
     "inputWidgets": {},
     "nuid": "01e69d35-58b9-4a20-a0f0-6aabb0e21f6f",
     "showTitle": false,
     "tableResultSettingsMap": {},
     "title": ""
    }
   },
   "outputs": [],
   "source": [
    "member_accumulators_schema = StructType(\n",
    "    [\n",
    "        StructField(\"member_id\", StringType(), nullable=False),\n",
    "        StructField(\"oop_max\", DoubleType(), nullable=False),\n",
    "        StructField(\"fam_deductible\", DoubleType(), nullable=False),\n",
    "        StructField(\"mem_deductible\", DoubleType(), nullable=False),\n",
    "        StructField(\"oop_agg\", DoubleType(), nullable=False),\n",
    "        StructField(\"mem_ded_agg\", DoubleType(), nullable=False),\n",
    "        StructField(\"fam_ded_agg\", DoubleType(), nullable=False),\n",
    "    ]\n",
    ")\n",
    "\n",
    "member_accumulators_data = [\n",
    "    (\"1234\", 2500.00, 1500.00, 1000.00, 500.00, 500.00, 750.00),\n",
    "    (\"2345\", 2500.00, 1500.00, 1000.00, 250.00, 250.00, 750.00),\n",
    "    (\"7890\", 3000.00, 2500.00, 2000.00, 3000.00, 2000.00, 2000.00),\n",
    "]\n",
    "\n",
    "member_accumulators = spark.createDataFrame(\n",
    "    member_accumulators_data, schema=member_accumulators_schema\n",
    ")\n",
    "\n",
    "spark.sql(f\"DROP TABLE IF EXISTS {catalog}.{schema}.{member_accumulators_table_name}\")\n",
    "\n",
    "spark.catalog.createTable(\n",
    "    f\"{catalog}.{schema}.{member_accumulators_table_name}\",\n",
    "    schema=member_accumulators_schema,\n",
    ")\n",
    "\n",
    "member_accumulators.write.mode(\"append\").saveAsTable(\n",
    "    f\"{catalog}.{schema}.{member_accumulators_table_name}\"\n",
    ")\n",
    "\n",
    "spark.sql(\n",
    "    f\"ALTER TABLE {catalog}.{schema}.{member_accumulators_table_name} ADD CONSTRAINT {member_accumulators_table_name}_pk PRIMARY KEY( member_id)\"\n",
    ")"
   ]
  },
  {
   "cell_type": "markdown",
   "metadata": {
    "application/vnd.databricks.v1+cell": {
     "cellMetadata": {},
     "inputWidgets": {},
     "nuid": "07680cec-b6c2-4f26-97cf-8b4e7fe090bd",
     "showTitle": false,
     "tableResultSettingsMap": {},
     "title": ""
    }
   },
   "source": [
    "###### Inspect and Verify Data"
   ]
  },
  {
   "cell_type": "code",
   "execution_count": 0,
   "metadata": {
    "application/vnd.databricks.v1+cell": {
     "cellMetadata": {
      "byteLimit": 2048000,
      "rowLimit": 10000
     },
     "inputWidgets": {},
     "nuid": "05f4df98-5f2e-4375-b4d1-4f1791a7f09a",
     "showTitle": false,
     "tableResultSettingsMap": {},
     "title": ""
    }
   },
   "outputs": [],
   "source": [
    "display(spark.table(f\"{catalog}.{schema}.{member_accumulators_table_name}\"))"
   ]
  },
  {
   "cell_type": "markdown",
   "metadata": {
    "application/vnd.databricks.v1+cell": {
     "cellMetadata": {},
     "inputWidgets": {},
     "nuid": "6c9bd91b-22bf-43f6-93b1-aede2fb6b3b2",
     "showTitle": false,
     "tableResultSettingsMap": {},
     "title": ""
    }
   },
   "source": [
    "#####`cpt_codes`\n"
   ]
  },
  {
   "cell_type": "code",
   "execution_count": 0,
   "metadata": {
    "application/vnd.databricks.v1+cell": {
     "cellMetadata": {
      "byteLimit": 2048000,
      "rowLimit": 10000
     },
     "inputWidgets": {},
     "nuid": "2a9c1645-5489-4545-a31c-803c2162ecc0",
     "showTitle": false,
     "tableResultSettingsMap": {},
     "title": ""
    }
   },
   "outputs": [],
   "source": [
    "from pyspark.sql.functions import monotonically_increasing_id\n",
    "\n",
    "cpt_codes_file = f\"{cpt_folder_path}/{cpt_file}\"\n",
    "\n",
    "cpt_codes_file_schema = (\n",
    "    StructType().add(\"code\", StringType(), True).add(\"description\", StringType(), True)\n",
    ")\n",
    "\n",
    "cpt_codes_table_schema = (\n",
    "    StructType()\n",
    "    .add(\"id\", LongType(), False)\n",
    "    .add(\"code\", StringType(), True)\n",
    "    .add(\"description\", StringType(), True)\n",
    ")\n",
    "\n",
    "\n",
    "cpt_df = (\n",
    "    spark.read.option(\"header\", \"false\")\n",
    "    .option(\"delimiter\", \"\\t\")\n",
    "    .schema(cpt_codes_file_schema)\n",
    "    .csv(cpt_codes_file)\n",
    "    .repartition(1)\n",
    "    .withColumn(\"id\", monotonically_increasing_id())\n",
    "    .select(\"id\", \"code\", \"description\")\n",
    ")\n",
    "\n",
    "spark.sql(f\"DROP TABLE IF EXISTS {catalog}.{schema}.{cpt_code_table_name}\")\n",
    "\n",
    "spark.catalog.createTable(\n",
    "    f\"{catalog}.{schema}.{cpt_code_table_name}\", schema=cpt_codes_table_schema\n",
    ")\n",
    "\n",
    "cpt_df.write.mode(\"append\").saveAsTable(f\"{catalog}.{schema}.{cpt_code_table_name}\")\n",
    "\n",
    "spark.sql(\n",
    "    f\"ALTER TABLE {catalog}.{schema}.{cpt_code_table_name} ADD CONSTRAINT {cpt_code_table_name}_pk PRIMARY KEY( id )\"\n",
    ")"
   ]
  },
  {
   "cell_type": "markdown",
   "metadata": {
    "application/vnd.databricks.v1+cell": {
     "cellMetadata": {},
     "inputWidgets": {},
     "nuid": "8084cbb3-2c5e-44c2-b4d1-65bde2d8f344",
     "showTitle": false,
     "tableResultSettingsMap": {},
     "title": ""
    }
   },
   "source": [
    "###### Inspect and Verify Data"
   ]
  },
  {
   "cell_type": "code",
   "execution_count": 0,
   "metadata": {
    "application/vnd.databricks.v1+cell": {
     "cellMetadata": {
      "byteLimit": 2048000,
      "rowLimit": 10000
     },
     "inputWidgets": {},
     "nuid": "d20e9c23-3d4d-4109-ac6c-252c4f855da5",
     "showTitle": false,
     "tableResultSettingsMap": {},
     "title": ""
    }
   },
   "outputs": [],
   "source": [
    "display(cpt_df)"
   ]
  },
  {
   "cell_type": "markdown",
   "metadata": {
    "application/vnd.databricks.v1+cell": {
     "cellMetadata": {},
     "inputWidgets": {},
     "nuid": "d8b63a6a-a8e2-4ce8-aaad-e64a1d4375c1",
     "showTitle": false,
     "tableResultSettingsMap": {},
     "title": ""
    }
   },
   "source": [
    "#####`procedure_cost` \n",
    "Table containing negotiated cost of each procedure.\n",
    "For simiplicity we will assign a random cost to each procedure"
   ]
  },
  {
   "cell_type": "code",
   "execution_count": 0,
   "metadata": {
    "application/vnd.databricks.v1+cell": {
     "cellMetadata": {
      "byteLimit": 2048000,
      "rowLimit": 10000
     },
     "inputWidgets": {},
     "nuid": "8ec089d3-9ff8-494f-9516-de6eac3e4668",
     "showTitle": false,
     "tableResultSettingsMap": {},
     "title": ""
    }
   },
   "outputs": [],
   "source": [
    "from pyspark.sql.functions import rand, round, pow, ceil, col\n",
    "\n",
    "procedure_cost_schema = StructType(\n",
    "    [\n",
    "        StructField(\"procedure_code\", StringType(), nullable=False),\n",
    "        StructField(\"cost\", DoubleType(), nullable=False),\n",
    "    ]\n",
    ")\n",
    "\n",
    "spark.sql(f\"DROP TABLE IF EXISTS {catalog}.{schema}.{procedure_cost_table_name}\")\n",
    "\n",
    "spark.catalog.createTable(\n",
    "    f\"{catalog}.{schema}.{procedure_cost_table_name}\", schema=procedure_cost_schema\n",
    ")\n",
    "\n",
    "# Read the procedure codes and assign some cost to it\n",
    "# In a production scenario it could be a complex procedure to calculate the expected cost\n",
    "procedure_cost = (\n",
    "    spark.table(f\"{catalog}.{schema}.{cpt_code_table_name}\")\n",
    "    .withColumn(\"pow\", ceil(rand(seed=1234) * 10) % 3 + 2)\n",
    "    .withColumn(\"cost\", round(rand(seed=2345) * pow(10, \"pow\") + 20, 2))\n",
    "    .select(col(\"code\").alias(\"procedure_code\"), \"cost\")\n",
    ")\n",
    "\n",
    "procedure_cost.write.mode(\"append\").saveAsTable(\n",
    "    f\"{catalog}.{schema}.{procedure_cost_table_name}\"\n",
    ")\n",
    "\n",
    "spark.sql(\n",
    "    f\"ALTER TABLE {catalog}.{schema}.{procedure_cost_table_name} ADD CONSTRAINT {procedure_cost_table_name}_pk PRIMARY KEY( procedure_code )\"\n",
    ")"
   ]
  },
  {
   "cell_type": "markdown",
   "metadata": {
    "application/vnd.databricks.v1+cell": {
     "cellMetadata": {},
     "inputWidgets": {},
     "nuid": "ab9d21ad-f31f-4aca-a9e5-729b7a4c179b",
     "showTitle": false,
     "tableResultSettingsMap": {},
     "title": ""
    }
   },
   "source": [
    "###### Inspect and Verify Data"
   ]
  },
  {
   "cell_type": "code",
   "execution_count": 0,
   "metadata": {
    "application/vnd.databricks.v1+cell": {
     "cellMetadata": {
      "byteLimit": 2048000,
      "rowLimit": 10000
     },
     "inputWidgets": {},
     "nuid": "5b1a9c00-f7fe-4bbf-a479-198df10f3323",
     "showTitle": false,
     "tableResultSettingsMap": {},
     "title": ""
    }
   },
   "outputs": [],
   "source": [
    "display(spark.table(f\"{catalog}.{schema}.{procedure_cost_table_name}\"))"
   ]
  },
  {
   "cell_type": "markdown",
   "metadata": {
    "application/vnd.databricks.v1+cell": {
     "cellMetadata": {
      "byteLimit": 2048000,
      "rowLimit": 10000
     },
     "inputWidgets": {},
     "nuid": "f51a957e-c38c-4b36-862a-8b7002adb7ac",
     "showTitle": false,
     "tableResultSettingsMap": {},
     "title": ""
    }
   },
   "source": [
    "**NOTE:** In order for vector search to automatically sync updates, we need to enable ChangeDataFeed on the source table."
   ]
  },
  {
   "cell_type": "code",
   "execution_count": 0,
   "metadata": {
    "application/vnd.databricks.v1+cell": {
     "cellMetadata": {
      "byteLimit": 2048000,
      "rowLimit": 10000
     },
     "inputWidgets": {},
     "nuid": "8e859c60-5f5e-499b-a9b4-5ca93c7e3a7e",
     "showTitle": false,
     "tableResultSettingsMap": {},
     "title": ""
    }
   },
   "outputs": [],
   "source": [
    "spark.sql(\n",
    "    f\"ALTER TABLE {catalog}.{schema}.{cpt_code_table_name} SET TBLPROPERTIES (delta.enableChangeDataFeed = true)\"\n",
    ")"
   ]
  }
 ],
 "metadata": {
  "application/vnd.databricks.v1+notebook": {
   "computePreferences": null,
   "dashboards": [],
   "environmentMetadata": null,
   "inputWidgetPreferences": null,
   "language": "python",
   "notebookMetadata": {
    "pythonIndentUnit": 2
   },
   "notebookName": "01_Setup Data",
   "widgets": {}
  },
  "language_info": {
   "name": "python"
  }
 },
 "nbformat": 4,
 "nbformat_minor": 0
}
