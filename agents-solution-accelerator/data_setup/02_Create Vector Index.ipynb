{
 "cells": [
  {
   "cell_type": "markdown",
   "metadata": {
    "application/vnd.databricks.v1+cell": {
     "cellMetadata": {},
     "inputWidgets": {},
     "nuid": "af8ffac9-7c15-4e6e-b84c-c920449643b0",
     "showTitle": false,
     "tableResultSettingsMap": {},
     "title": ""
    }
   },
   "source": [
    "#Create Vector Indexes"
   ]
  },
  {
   "cell_type": "markdown",
   "metadata": {
    "application/vnd.databricks.v1+cell": {
     "cellMetadata": {},
     "inputWidgets": {},
     "nuid": "dcace4eb-8839-4104-a6bf-897bffef9862",
     "showTitle": false,
     "tableResultSettingsMap": {},
     "title": ""
    }
   },
   "source": [
    "###Mosaic AI Vector Search and Vector Indexes\n",
    "Mosaic AI Vector Search is a vector database that is built into the Databricks Data Intelligence Platform and integrated with its governance and productivity tools. A vector database is a database that is optimized to store and retrieve embeddings. Embeddings are mathematical representations of the semantic content of data, typically text or image data. [Read More](https://docs.databricks.com/en/generative-ai/vector-search.html)\n",
    "\n",
    "### Vector Indexes\n",
    "Let us start creating vector indexes\n",
    "\n",
    "<img src=\"https://raw.githubusercontent.com/databricks-industry-solutions/CareCost-Compass/refs/heads/main/resources/build_3.png\" alt=\"Vector Indexes\" width=\"900\"/>\n",
    "\n",
    "We will be creating two vector indexes for this project.\n",
    "1. Vector Index for the parsed Summary of Benefits and Coverage chunks\n",
    "2. Vector Index for CPT codes and descriptions\n"
   ]
  },
  {
   "cell_type": "markdown",
   "metadata": {
    "application/vnd.databricks.v1+cell": {
     "cellMetadata": {},
     "inputWidgets": {},
     "nuid": "258af25c-dbb4-48d5-adb6-13173288a35e",
     "showTitle": false,
     "tableResultSettingsMap": {},
     "title": ""
    }
   },
   "source": [
    "#####Install libraries and import utility methods"
   ]
  },
  {
   "cell_type": "code",
   "execution_count": 0,
   "metadata": {
    "application/vnd.databricks.v1+cell": {
     "cellMetadata": {
      "byteLimit": 2048000,
      "rowLimit": 10000
     },
     "inputWidgets": {},
     "nuid": "458a7826-38c8-4f78-ada3-1a3ddcdb0cd3",
     "showTitle": false,
     "tableResultSettingsMap": {},
     "title": ""
    }
   },
   "outputs": [],
   "source": [
    "%pip install -qqqq -U mlflow databricks-feature-engineering langchain databricks-langchain"
   ]
  },
  {
   "cell_type": "code",
   "execution_count": 0,
   "metadata": {
    "application/vnd.databricks.v1+cell": {
     "cellMetadata": {
      "byteLimit": 2048000,
      "rowLimit": 10000
     },
     "inputWidgets": {},
     "nuid": "c8a0bd3a-a213-4eb4-a6b1-8135df12cda8",
     "showTitle": false,
     "tableResultSettingsMap": {},
     "title": ""
    }
   },
   "outputs": [],
   "source": [
    "dbutils.library.restartPython()"
   ]
  },
  {
   "cell_type": "code",
   "execution_count": 0,
   "metadata": {
    "application/vnd.databricks.v1+cell": {
     "cellMetadata": {
      "byteLimit": 2048000,
      "rowLimit": 10000
     },
     "inputWidgets": {},
     "nuid": "ce0e1485-29bc-4f8b-b4d5-4484fc0df041",
     "showTitle": false,
     "tableResultSettingsMap": {},
     "title": ""
    }
   },
   "outputs": [],
   "source": [
    "%run ./utils/utils"
   ]
  },
  {
   "cell_type": "markdown",
   "metadata": {
    "application/vnd.databricks.v1+cell": {
     "cellMetadata": {},
     "inputWidgets": {},
     "nuid": "d3333e56-3e51-411b-924e-a102a6a9d60f",
     "showTitle": false,
     "tableResultSettingsMap": {},
     "title": ""
    }
   },
   "source": [
    "####Create a Vector Search endpoint\n",
    "vector Search Endpoint serves the vector search index. You can query and update the endpoint using the REST API or the SDK. Endpoints scale automatically to support the size of the index or the number of concurrent requests. See [Create a vector search endpoint](https://docs.databricks.com/en/generative-ai/create-query-vector-search.html#create-a-vector-search-endpoint) for instructions."
   ]
  },
  {
   "cell_type": "code",
   "execution_count": 0,
   "metadata": {
    "application/vnd.databricks.v1+cell": {
     "cellMetadata": {
      "byteLimit": 2048000,
      "rowLimit": 10000
     },
     "inputWidgets": {},
     "nuid": "dfc3b0a9-8190-4625-a934-139c758ac231",
     "showTitle": false,
     "tableResultSettingsMap": {},
     "title": ""
    }
   },
   "outputs": [],
   "source": [
    "# name for the vector search endpoint\n",
    "vector_search_endpoint_name = \"care_cost_vs_endpoint\"\n",
    "\n",
    "# We are using an embedding endpoint available in Databricks Workspace\n",
    "# If needed we can use custom embedding endpoints as well\n",
    "embedding_endpoint_name = \"databricks-bge-large-en\"\n",
    "\n",
    "# Define the source tables, index name and key fields\n",
    "sbc_source_data_table = f\"{catalog}.{schema}.{sbc_details_table_name}\"\n",
    "sbc_source_data_table_id_field = \"id\"\n",
    "sbc_source_data_table_text_field = \"content\"\n",
    "sbc_vector_index_name = f\"{sbc_source_data_table}_index\"\n",
    "\n",
    "cpt_source_data_table = f\"{catalog}.{schema}.{cpt_code_table_name}\"\n",
    "cpt_source_data_table_id_field = \"id\"\n",
    "cpt_source_data_table_text_field = \"description\"\n",
    "cpt_vector_index_name = f\"{cpt_source_data_table}_index\""
   ]
  },
  {
   "cell_type": "markdown",
   "metadata": {
    "application/vnd.databricks.v1+cell": {
     "cellMetadata": {},
     "inputWidgets": {},
     "nuid": "3afa47f3-095e-4be2-bfc4-1c5fee124225",
     "showTitle": false,
     "tableResultSettingsMap": {},
     "title": ""
    }
   },
   "source": [
    "**NOTE:** Below command creates a Vector Search Endpoint and will take few minutes to complete. "
   ]
  },
  {
   "cell_type": "code",
   "execution_count": 0,
   "metadata": {
    "application/vnd.databricks.v1+cell": {
     "cellMetadata": {
      "byteLimit": 2048000,
      "rowLimit": 10000
     },
     "inputWidgets": {},
     "nuid": "c596b1fc-a386-49cf-998e-7e07bcfe3490",
     "showTitle": false,
     "tableResultSettingsMap": {},
     "title": ""
    }
   },
   "outputs": [],
   "source": [
    "from databricks.vector_search.client import VectorSearchClient\n",
    "from datetime import timedelta\n",
    "import time\n",
    "\n",
    "# create the vector search endpoint if it does not exist\n",
    "# same endpoint can be used to serve both the indexes\n",
    "vsc = VectorSearchClient(disable_notice=True)\n",
    "\n",
    "try:\n",
    "    vsc.create_endpoint(name=vector_search_endpoint_name, endpoint_type=\"STANDARD\")\n",
    "\n",
    "    time.sleep(5)\n",
    "\n",
    "    vsc.wait_for_endpoint(\n",
    "        name=vector_search_endpoint_name, timeout=timedelta(minutes=60), verbose=True\n",
    "    )\n",
    "\n",
    "    print(f\"Endpoint named {vector_search_endpoint_name} is ready.\")\n",
    "\n",
    "except Exception as e:\n",
    "    if \"already exists\" in str(e):\n",
    "        print(f\"Endpoint named {vector_search_endpoint_name} already exists.\")\n",
    "    else:\n",
    "        raise e"
   ]
  },
  {
   "cell_type": "markdown",
   "metadata": {
    "application/vnd.databricks.v1+cell": {
     "cellMetadata": {},
     "inputWidgets": {},
     "nuid": "4657a28d-3fce-47e6-ac59-990785c78497",
     "showTitle": false,
     "tableResultSettingsMap": {},
     "title": ""
    }
   },
   "source": [
    "#### Check if embeddings endpoint exists\n",
    "\n",
    "We will use the existing `databricks-bge-large-en` endpoint for embeddings"
   ]
  },
  {
   "cell_type": "code",
   "execution_count": 0,
   "metadata": {
    "application/vnd.databricks.v1+cell": {
     "cellMetadata": {
      "byteLimit": 2048000,
      "rowLimit": 10000
     },
     "inputWidgets": {},
     "nuid": "b0f9d166-4b80-4bfc-9b64-c4f96f6ebfa1",
     "showTitle": false,
     "tableResultSettingsMap": {},
     "title": ""
    }
   },
   "outputs": [],
   "source": [
    "import mlflow\n",
    "import mlflow.deployments\n",
    "\n",
    "client = mlflow.deployments.get_deploy_client(\"databricks\")"
   ]
  },
  {
   "cell_type": "code",
   "execution_count": 0,
   "metadata": {
    "application/vnd.databricks.v1+cell": {
     "cellMetadata": {
      "byteLimit": 2048000,
      "rowLimit": 10000
     },
     "inputWidgets": {},
     "nuid": "b93957d3-d036-4209-8b20-0992e46affad",
     "showTitle": false,
     "tableResultSettingsMap": {},
     "title": ""
    }
   },
   "outputs": [],
   "source": [
    "[ep for ep in client.list_endpoints() if ep[\"name\"] == embedding_endpoint_name]"
   ]
  },
  {
   "cell_type": "markdown",
   "metadata": {
    "application/vnd.databricks.v1+cell": {
     "cellMetadata": {},
     "inputWidgets": {},
     "nuid": "ecf17780-7784-43fb-a0f0-1fa58eb699db",
     "showTitle": false,
     "tableResultSettingsMap": {},
     "title": ""
    }
   },
   "source": [
    "#### Test the embeddings endpoint"
   ]
  },
  {
   "cell_type": "code",
   "execution_count": 0,
   "metadata": {
    "application/vnd.databricks.v1+cell": {
     "cellMetadata": {
      "byteLimit": 2048000,
      "rowLimit": 10000
     },
     "inputWidgets": {},
     "nuid": "f107d0a7-4bf5-417c-a10b-b0f1059ec6d3",
     "showTitle": false,
     "tableResultSettingsMap": {},
     "title": ""
    }
   },
   "outputs": [],
   "source": [
    "client.predict(\n",
    "    endpoint=\"databricks-bge-large-en\", inputs={\"input\": [\"What is Apache Spark?\"]}\n",
    ")"
   ]
  },
  {
   "cell_type": "markdown",
   "metadata": {
    "application/vnd.databricks.v1+cell": {
     "cellMetadata": {},
     "inputWidgets": {},
     "nuid": "d59dfe34-ef68-4a3b-a821-6193db3f8345",
     "showTitle": false,
     "tableResultSettingsMap": {},
     "title": ""
    }
   },
   "source": [
    "####Create Vector Search Index\n",
    "The vector search index is created from a Delta table and is optimized to provide real-time approximate nearest neighbor searches. The goal of the search is to identify documents that are similar to the query. Vector search indexes appear in and are governed by Unity Catalog. To learn more about creating Vector Indexes, visit this [link](https://docs.databricks.com/en/generative-ai/create-query-vector-search.html). \n",
    "\n",
    "We will now create the vector indexes. Our vector index will be of `Delta Sync Index` type. [[Read More](https://docs.databricks.com/en/generative-ai/create-query-vector-search.html#create-a-vector-search-index)] \n",
    "\n",
    "We will use a Sync Mode of `TRIGGERED` as our table updates are not happening frequently and sync latency is not an issue for us. [[Read More](https://docs.databricks.com/en/generative-ai/create-query-vector-search.html#create-a-vector-search-index:~:text=embedding%20table.-,Sync%20mode%3A,-Continuous%20keeps%20the)]"
   ]
  },
  {
   "cell_type": "markdown",
   "metadata": {
    "application/vnd.databricks.v1+cell": {
     "cellMetadata": {},
     "inputWidgets": {},
     "nuid": "813635ed-865a-40b4-8f21-c6db2f11176c",
     "showTitle": false,
     "tableResultSettingsMap": {},
     "title": ""
    }
   },
   "source": [
    "**NOTE:** In order for vector search to automatically sync updates, we need to enable ChangeDataFeed on the source table."
   ]
  },
  {
   "cell_type": "markdown",
   "metadata": {
    "application/vnd.databricks.v1+cell": {
     "cellMetadata": {},
     "inputWidgets": {},
     "nuid": "abcf7fe5-8e21-4865-9722-3df5361e1c1c",
     "showTitle": false,
     "tableResultSettingsMap": {},
     "title": ""
    }
   },
   "source": [
    "#####Create CPT Code Vector Index"
   ]
  },
  {
   "cell_type": "markdown",
   "metadata": {
    "application/vnd.databricks.v1+cell": {
     "cellMetadata": {},
     "inputWidgets": {},
     "nuid": "c86c59a9-3619-4821-8a23-4da24b6ebe19",
     "showTitle": false,
     "tableResultSettingsMap": {},
     "title": ""
    }
   },
   "source": [
    "**NOTE:** Below section creates a vector search index and does an initial sync. Some time this could take longer and the cell execution might timeout. You can re-run the cell to finish to completion"
   ]
  },
  {
   "cell_type": "code",
   "execution_count": 0,
   "metadata": {
    "application/vnd.databricks.v1+cell": {
     "cellMetadata": {
      "byteLimit": 2048000,
      "rowLimit": 10000
     },
     "inputWidgets": {},
     "nuid": "cdd97676-895b-4486-95cd-9b07c70e62ce",
     "showTitle": false,
     "tableResultSettingsMap": {},
     "title": ""
    }
   },
   "outputs": [],
   "source": [
    "try:\n",
    "    cpt_index = vsc.create_delta_sync_index_and_wait(\n",
    "        endpoint_name=vector_search_endpoint_name,\n",
    "        index_name=cpt_vector_index_name,\n",
    "        source_table_name=cpt_source_data_table,\n",
    "        primary_key=cpt_source_data_table_id_field,\n",
    "        embedding_source_column=cpt_source_data_table_text_field,\n",
    "        embedding_model_endpoint_name=embedding_endpoint_name,\n",
    "        pipeline_type=\"TRIGGERED\",\n",
    "        verbose=True,\n",
    "    )\n",
    "except Exception as e:\n",
    "    if \"already exists\" in str(e):\n",
    "        print(f\"Index named {vector_search_endpoint_name} already exists.\")\n",
    "        cpt_index = vsc.get_index(vector_search_endpoint_name, cpt_vector_index_name)\n",
    "    else:\n",
    "        raise e"
   ]
  },
  {
   "cell_type": "markdown",
   "metadata": {
    "application/vnd.databricks.v1+cell": {
     "cellMetadata": {},
     "inputWidgets": {},
     "nuid": "20ff446a-8cc2-40dd-a68a-cc1818e9643e",
     "showTitle": false,
     "tableResultSettingsMap": {},
     "title": ""
    }
   },
   "source": [
    "#### Quick Test of Indexes"
   ]
  },
  {
   "cell_type": "code",
   "execution_count": 0,
   "metadata": {
    "application/vnd.databricks.v1+cell": {
     "cellMetadata": {
      "byteLimit": 2048000,
      "rowLimit": 10000
     },
     "inputWidgets": {},
     "nuid": "7c1b7099-4ca2-49d4-8cd9-7801964352f6",
     "showTitle": false,
     "tableResultSettingsMap": {},
     "title": ""
    }
   },
   "outputs": [],
   "source": [
    "%pip install -qqqq -U databricks-vectorsearch \n",
    "dbutils.library.restartPython()"
   ]
  },
  {
   "cell_type": "code",
   "execution_count": 0,
   "metadata": {
    "application/vnd.databricks.v1+cell": {
     "cellMetadata": {
      "byteLimit": 2048000,
      "rowLimit": 10000
     },
     "inputWidgets": {},
     "nuid": "b49f1181-6a3a-4a50-91ee-d53d2a322ef4",
     "showTitle": false,
     "tableResultSettingsMap": {},
     "title": ""
    }
   },
   "outputs": [],
   "source": [
    "%run ./utils/utils"
   ]
  },
  {
   "cell_type": "code",
   "execution_count": 0,
   "metadata": {
    "application/vnd.databricks.v1+cell": {
     "cellMetadata": {
      "byteLimit": 2048000,
      "rowLimit": 10000
     },
     "inputWidgets": {},
     "nuid": "a2b3fedb-8dfc-49cf-b481-c86ba3d52f3e",
     "showTitle": false,
     "tableResultSettingsMap": {},
     "title": ""
    }
   },
   "outputs": [],
   "source": [
    "# name for the vector search endpoint\n",
    "vector_search_endpoint_name = \"care_cost_vs_endpoint\"\n",
    "\n",
    "# We are using an embedding endpoint available in Databricks Workspace\n",
    "# If needed we can use custom embedding endpoints as well\n",
    "embedding_endpoint_name = \"databricks-bge-large-en\"\n",
    "\n",
    "# Define the source tables, index name and key fields\n",
    "sbc_source_data_table = f\"{catalog}.{schema}.{sbc_details_table_name}\"\n",
    "sbc_source_data_table_id_field = \"id\"\n",
    "sbc_source_data_table_text_field = \"content\"\n",
    "sbc_vector_index_name = f\"{sbc_source_data_table}_index\"\n",
    "\n",
    "cpt_source_data_table = f\"{catalog}.{schema}.{cpt_code_table_name}\"\n",
    "cpt_source_data_table_id_field = \"id\"\n",
    "cpt_source_data_table_text_field = \"description\"\n",
    "cpt_vector_index_name = f\"{cpt_source_data_table}_index\""
   ]
  },
  {
   "cell_type": "code",
   "execution_count": 0,
   "metadata": {
    "application/vnd.databricks.v1+cell": {
     "cellMetadata": {
      "byteLimit": 2048000,
      "rowLimit": 10000
     },
     "inputWidgets": {},
     "nuid": "f6778ae4-deff-4ea3-b391-f0cd4b76264e",
     "showTitle": false,
     "tableResultSettingsMap": {},
     "title": ""
    }
   },
   "outputs": [],
   "source": [
    "from databricks.vector_search.client import VectorSearchClient\n",
    "from datetime import timedelta\n",
    "import time\n",
    "\n",
    "# create the vector search endpoint if it does not exist\n",
    "# same endpoint can be used to serve both the indexes\n",
    "vsc = VectorSearchClient(disable_notice=True)"
   ]
  },
  {
   "cell_type": "code",
   "execution_count": 0,
   "metadata": {
    "application/vnd.databricks.v1+cell": {
     "cellMetadata": {
      "byteLimit": 2048000,
      "rowLimit": 10000
     },
     "inputWidgets": {},
     "nuid": "6b318076-c79c-4207-9ac4-b5c370c234c3",
     "showTitle": false,
     "tableResultSettingsMap": {},
     "title": ""
    }
   },
   "outputs": [],
   "source": [
    "cpt_index = vsc.get_index(vector_search_endpoint_name, cpt_vector_index_name)"
   ]
  },
  {
   "cell_type": "code",
   "execution_count": 0,
   "metadata": {
    "application/vnd.databricks.v1+cell": {
     "cellMetadata": {
      "byteLimit": 2048000,
      "rowLimit": 10000
     },
     "inputWidgets": {},
     "nuid": "effb9da7-03a2-4faa-b353-592fd580129e",
     "showTitle": false,
     "tableResultSettingsMap": {},
     "title": ""
    }
   },
   "outputs": [],
   "source": [
    "results = cpt_index.similarity_search(\n",
    "    query_text=\"How much does Xray of shoulder cost?\",\n",
    "    columns=[\"id\", \"code\", \"description\"],\n",
    "    num_results=3,\n",
    ")\n",
    "\n",
    "if results[\"result\"][\"row_count\"] > 0:\n",
    "    display(results[\"result\"][\"data_array\"])\n",
    "else:\n",
    "    print(\"No records\")"
   ]
  }
 ],
 "metadata": {
  "application/vnd.databricks.v1+notebook": {
   "computePreferences": null,
   "dashboards": [],
   "environmentMetadata": null,
   "inputWidgetPreferences": null,
   "language": "python",
   "notebookMetadata": {
    "pythonIndentUnit": 2
   },
   "notebookName": "02_Create Vector Index",
   "widgets": {}
  },
  "language_info": {
   "name": "python"
  }
 },
 "nbformat": 4,
 "nbformat_minor": 0
}
